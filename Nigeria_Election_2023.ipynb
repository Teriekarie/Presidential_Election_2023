{
  "nbformat": 4,
  "nbformat_minor": 0,
  "metadata": {
    "colab": {
      "provenance": [],
      "mount_file_id": "1_6XZz7xIXkDh_7zHu8jFXKM9odSLhB92",
      "authorship_tag": "ABX9TyPd0a2PvcaBx1DUVu+gNJUY",
      "include_colab_link": true
    },
    "kernelspec": {
      "name": "python3",
      "display_name": "Python 3"
    },
    "language_info": {
      "name": "python"
    }
  },
  "cells": [
    {
      "cell_type": "markdown",
      "metadata": {
        "id": "view-in-github",
        "colab_type": "text"
      },
      "source": [
        "<a href=\"https://colab.research.google.com/github/Teriekarie/Presidential_Election_2023/blob/main/Nigeria_Election_2023.ipynb\" target=\"_parent\"><img src=\"https://colab.research.google.com/assets/colab-badge.svg\" alt=\"Open In Colab\"/></a>"
      ]
    },
    {
      "cell_type": "markdown",
      "source": [
        "#Task\n",
        "\n",
        "Extract data from twitter on the 3 presidential candidates (use their names to search for them), Remove any data that isnt talking about the perform a sentiment analysis on them, let us see who has the most polarity (positive tweets). To do this, calculate the average for each individual."
      ],
      "metadata": {
        "id": "nH55TLaOuEw4"
      }
    },
    {
      "cell_type": "markdown",
      "source": [
        "#Method\n",
        "\n",
        "Using Twint to scrape tweets\n",
        "\n",
        "Using Regex to clean tweets\n",
        "\n",
        "Usin Textblob to obtain the sentiment of each tweet\n",
        "\n",
        "Analyze and visualization"
      ],
      "metadata": {
        "id": "ffOABGBButKX"
      }
    },
    {
      "cell_type": "code",
      "source": [
        "#Uninstall twint\n",
        "!pip uninstall twint"
      ],
      "metadata": {
        "id": "eaF04gFViQBS"
      },
      "execution_count": null,
      "outputs": []
    },
    {
      "cell_type": "code",
      "source": [
        "#installing libraries\n",
        "\n",
        "!pip install twint\n",
        "!pip install Textblob --upgrade\n",
        "!pip3 install --user --upgrade -e git+https://github.com/twintproject/twint.git@origin/master#egg=twint\n",
        "!pip install pickle5"
      ],
      "metadata": {
        "id": "HdEB9yNNuSeN"
      },
      "execution_count": null,
      "outputs": []
    },
    {
      "cell_type": "code",
      "source": [
        "pip install nest_asyncio"
      ],
      "metadata": {
        "id": "vVhsHVaLv_Xc"
      },
      "execution_count": null,
      "outputs": []
    },
    {
      "cell_type": "code",
      "source": [
        "pip install nltk"
      ],
      "metadata": {
        "id": "6epLEyTCnBhv"
      },
      "execution_count": null,
      "outputs": []
    },
    {
      "cell_type": "code",
      "source": [
        "!pip freeze"
      ],
      "metadata": {
        "id": "1ME9n_Viou-x"
      },
      "execution_count": null,
      "outputs": []
    },
    {
      "cell_type": "code",
      "source": [
        "#importing libraries\n",
        "\n",
        "import twint\n",
        "import pandas as pd\n",
        "import nest_asyncio             \n",
        "import matplotlib.pyplot as plt\n",
        "\n",
        "import pickle5 as pickle\n",
        "\n",
        "import numpy as np\n",
        "import datetime as dt\n",
        "import seaborn as sns\n",
        "import glob                     \n",
        "import os\n",
        "\n",
        "#cleaning\n",
        "import re\n",
        "from nltk.tokenize import WordPunctTokenizer\n",
        "from nltk.corpus import stopwords             \n",
        "import nltk\n",
        "nltk.download('punkt')\n",
        "\n",
        "# Sentiment Analysis\n",
        "from textblob import TextBlob\n",
        "\n",
        "#word cloud\n",
        "from wordcloud import WordCloud"
      ],
      "metadata": {
        "id": "bv1JQHQJvkaU",
        "colab": {
          "base_uri": "https://localhost:8080/"
        },
        "outputId": "fb79399e-e473-4a6c-dc5d-be3caa4e3067"
      },
      "execution_count": 6,
      "outputs": [
        {
          "output_type": "stream",
          "name": "stderr",
          "text": [
            "[nltk_data] Downloading package punkt to /root/nltk_data...\n",
            "[nltk_data]   Package punkt is already up-to-date!\n"
          ]
        }
      ]
    },
    {
      "cell_type": "markdown",
      "source": [
        "###Configure and set-up Twint"
      ],
      "metadata": {
        "id": "wZxe35SuzPsl"
      }
    },
    {
      "cell_type": "code",
      "source": [
        "#for compatibility issues with twint\n",
        "nest_asyncio.apply()"
      ],
      "metadata": {
        "id": "8gN4JUMAyBEM"
      },
      "execution_count": 7,
      "outputs": []
    },
    {
      "cell_type": "code",
      "source": [
        "#create a dictionary of each candidate with its search names\n",
        "#loop through the search names to twint and obtain tweet for each candidate\n",
        "candidate_search = {\"Peter Obi\":\"PeterObi OR \\\"peter obi\\\" OR \\\"PETEROBI\\\" OR \\\"peterobi\\\"\",\n",
        "\"Bola Tinubu\":\"Jagaban OR Tinubu OR BolaTinubu\",\"Atiku Abubakar\":\"ATIKU OR atiku OR ATIKUABUBAKAR\"}"
      ],
      "metadata": {
        "id": "yIFuXpKozS4E"
      },
      "execution_count": 8,
      "outputs": []
    },
    {
      "cell_type": "code",
      "source": [
        "def twintConfig(search_string):\n",
        "    c = twint.Config()\n",
        "    c.Search = search_string[1]\n",
        "    c.Limit= 2000\n",
        "    c.Lang = 'en'\n",
        "    c.Pandas = True\n",
        "    c.Pandas_au = True          \n",
        "    c.Pandas_clean=True\n",
        "    c.Since='2022-01-01'\n",
        "    c.Until='2022-11-30'\n",
        "    #Config for file storage\n",
        "    c.Store_csv = True  # To save tweets in a CSV format\n",
        "    c.Output = \"president.csv\"\n",
        "    twint.run.Search(c)"
      ],
      "metadata": {
        "id": "neHO4qebzdA1"
      },
      "execution_count": 10,
      "outputs": []
    },
    {
      "cell_type": "code",
      "source": [
        "#run the twint through a function \n",
        "#with the candidate_search dictionary and concatenate the resulting dataframes\n",
        "def Run_Twint(search_vals):\n",
        "    \n",
        "    #set empty dataframe for join\n",
        "    out_df= pd.DataFrame()\n",
        "    \n",
        "    for candidate in search_vals.items():\n",
        "        print (\"running for search item: \"+candidate[0]+\"\\n\")\n",
        "        print (\"Search string: \"+candidate[1]+\"\\n\")\n",
        "        \n",
        "        #run twint\n",
        "        twintConfig(candidate)\n",
        "        \n",
        "        #get dataframe from twint output\n",
        "        tweets_df = twint.storage.panda.Tweets_df\n",
        "        \n",
        "        #join Dataframes and create 'Candidate' column\n",
        "        tweets_df[\"Candidate\"]= candidate[0]\n",
        "        out_df = pd.concat([out_df,tweets_df])\n",
        "        \n",
        "    return out_df\n"
      ],
      "metadata": {
        "id": "jgdOJJWd1J77"
      },
      "execution_count": 11,
      "outputs": []
    },
    {
      "cell_type": "code",
      "source": [
        "tweets_df = Run_Twint(candidate_search)"
      ],
      "metadata": {
        "id": "1oPXRYQX2JOg"
      },
      "execution_count": null,
      "outputs": []
    },
    {
      "cell_type": "code",
      "source": [
        "tweets_df.head()"
      ],
      "metadata": {
        "colab": {
          "base_uri": "https://localhost:8080/",
          "height": 508
        },
        "id": "CRmSLjD_k5eh",
        "outputId": "91734efa-4eb0-4a8f-88a5-e4170a4d4e2d"
      },
      "execution_count": 13,
      "outputs": [
        {
          "output_type": "execute_result",
          "data": {
            "text/plain": [
              "                    id      conversation_id    created_at  \\\n",
              "0  1597742167493324800  1597497317208526849  1.669766e+12   \n",
              "1  1597742166092435458  1597622080497147904  1.669766e+12   \n",
              "2  1597742122480046080  1597270737118957571  1.669766e+12   \n",
              "3  1597742080788680705  1597742080788680705  1.669766e+12   \n",
              "4  1597742003680575488  1597486726104363008  1.669766e+12   \n",
              "\n",
              "                  date timezone place  \\\n",
              "0  2022-11-29 23:59:52    +0000         \n",
              "1  2022-11-29 23:59:51    +0000         \n",
              "2  2022-11-29 23:59:41    +0000         \n",
              "3  2022-11-29 23:59:31    +0000         \n",
              "4  2022-11-29 23:59:12    +0000         \n",
              "\n",
              "                                               tweet language hashtags  \\\n",
              "0  @agoyi44dogzy @oluwatonianu @_mustapher_ @TheN...       en       []   \n",
              "1                      @_weyimi @Lexyzdoo @PeterObi.      qam       []   \n",
              "2        @AntiXenophobian Thank God she has a gun. 😳       en       []   \n",
              "3  We are making unbelievable progress 🙌 thanks b...       en       []   \n",
              "4  @alabiopeyemiola @officialABAT Your leader loo...       en       []   \n",
              "\n",
              "  cashtags  ...  source user_rt_id user_rt retweet_id  \\\n",
              "0       []  ...                                         \n",
              "1       []  ...                                         \n",
              "2       []  ...                                         \n",
              "3       []  ...                                         \n",
              "4       []  ...                                         \n",
              "\n",
              "                                            reply_to retweet_date translate  \\\n",
              "0  [{'screen_name': 'agoyi44dogzy', 'name': 'Abdu...                          \n",
              "1  [{'screen_name': '_weyimi', 'name': 'Weyimi B....                          \n",
              "2  [{'screen_name': 'AntiXenophobian', 'name': 'A...                          \n",
              "3                                                 []                          \n",
              "4  [{'screen_name': 'alabiopeyemiola', 'name': 'A...                          \n",
              "\n",
              "  trans_src trans_dest  Candidate  \n",
              "0                       Peter Obi  \n",
              "1                       Peter Obi  \n",
              "2                       Peter Obi  \n",
              "3                       Peter Obi  \n",
              "4                       Peter Obi  \n",
              "\n",
              "[5 rows x 39 columns]"
            ],
            "text/html": [
              "\n",
              "  <div id=\"df-2a24df52-0a79-429c-950d-f5b4acbe1eba\">\n",
              "    <div class=\"colab-df-container\">\n",
              "      <div>\n",
              "<style scoped>\n",
              "    .dataframe tbody tr th:only-of-type {\n",
              "        vertical-align: middle;\n",
              "    }\n",
              "\n",
              "    .dataframe tbody tr th {\n",
              "        vertical-align: top;\n",
              "    }\n",
              "\n",
              "    .dataframe thead th {\n",
              "        text-align: right;\n",
              "    }\n",
              "</style>\n",
              "<table border=\"1\" class=\"dataframe\">\n",
              "  <thead>\n",
              "    <tr style=\"text-align: right;\">\n",
              "      <th></th>\n",
              "      <th>id</th>\n",
              "      <th>conversation_id</th>\n",
              "      <th>created_at</th>\n",
              "      <th>date</th>\n",
              "      <th>timezone</th>\n",
              "      <th>place</th>\n",
              "      <th>tweet</th>\n",
              "      <th>language</th>\n",
              "      <th>hashtags</th>\n",
              "      <th>cashtags</th>\n",
              "      <th>...</th>\n",
              "      <th>source</th>\n",
              "      <th>user_rt_id</th>\n",
              "      <th>user_rt</th>\n",
              "      <th>retweet_id</th>\n",
              "      <th>reply_to</th>\n",
              "      <th>retweet_date</th>\n",
              "      <th>translate</th>\n",
              "      <th>trans_src</th>\n",
              "      <th>trans_dest</th>\n",
              "      <th>Candidate</th>\n",
              "    </tr>\n",
              "  </thead>\n",
              "  <tbody>\n",
              "    <tr>\n",
              "      <th>0</th>\n",
              "      <td>1597742167493324800</td>\n",
              "      <td>1597497317208526849</td>\n",
              "      <td>1.669766e+12</td>\n",
              "      <td>2022-11-29 23:59:52</td>\n",
              "      <td>+0000</td>\n",
              "      <td></td>\n",
              "      <td>@agoyi44dogzy @oluwatonianu @_mustapher_ @TheN...</td>\n",
              "      <td>en</td>\n",
              "      <td>[]</td>\n",
              "      <td>[]</td>\n",
              "      <td>...</td>\n",
              "      <td></td>\n",
              "      <td></td>\n",
              "      <td></td>\n",
              "      <td></td>\n",
              "      <td>[{'screen_name': 'agoyi44dogzy', 'name': 'Abdu...</td>\n",
              "      <td></td>\n",
              "      <td></td>\n",
              "      <td></td>\n",
              "      <td></td>\n",
              "      <td>Peter Obi</td>\n",
              "    </tr>\n",
              "    <tr>\n",
              "      <th>1</th>\n",
              "      <td>1597742166092435458</td>\n",
              "      <td>1597622080497147904</td>\n",
              "      <td>1.669766e+12</td>\n",
              "      <td>2022-11-29 23:59:51</td>\n",
              "      <td>+0000</td>\n",
              "      <td></td>\n",
              "      <td>@_weyimi @Lexyzdoo @PeterObi.</td>\n",
              "      <td>qam</td>\n",
              "      <td>[]</td>\n",
              "      <td>[]</td>\n",
              "      <td>...</td>\n",
              "      <td></td>\n",
              "      <td></td>\n",
              "      <td></td>\n",
              "      <td></td>\n",
              "      <td>[{'screen_name': '_weyimi', 'name': 'Weyimi B....</td>\n",
              "      <td></td>\n",
              "      <td></td>\n",
              "      <td></td>\n",
              "      <td></td>\n",
              "      <td>Peter Obi</td>\n",
              "    </tr>\n",
              "    <tr>\n",
              "      <th>2</th>\n",
              "      <td>1597742122480046080</td>\n",
              "      <td>1597270737118957571</td>\n",
              "      <td>1.669766e+12</td>\n",
              "      <td>2022-11-29 23:59:41</td>\n",
              "      <td>+0000</td>\n",
              "      <td></td>\n",
              "      <td>@AntiXenophobian Thank God she has a gun. 😳</td>\n",
              "      <td>en</td>\n",
              "      <td>[]</td>\n",
              "      <td>[]</td>\n",
              "      <td>...</td>\n",
              "      <td></td>\n",
              "      <td></td>\n",
              "      <td></td>\n",
              "      <td></td>\n",
              "      <td>[{'screen_name': 'AntiXenophobian', 'name': 'A...</td>\n",
              "      <td></td>\n",
              "      <td></td>\n",
              "      <td></td>\n",
              "      <td></td>\n",
              "      <td>Peter Obi</td>\n",
              "    </tr>\n",
              "    <tr>\n",
              "      <th>3</th>\n",
              "      <td>1597742080788680705</td>\n",
              "      <td>1597742080788680705</td>\n",
              "      <td>1.669766e+12</td>\n",
              "      <td>2022-11-29 23:59:31</td>\n",
              "      <td>+0000</td>\n",
              "      <td></td>\n",
              "      <td>We are making unbelievable progress 🙌 thanks b...</td>\n",
              "      <td>en</td>\n",
              "      <td>[]</td>\n",
              "      <td>[]</td>\n",
              "      <td>...</td>\n",
              "      <td></td>\n",
              "      <td></td>\n",
              "      <td></td>\n",
              "      <td></td>\n",
              "      <td>[]</td>\n",
              "      <td></td>\n",
              "      <td></td>\n",
              "      <td></td>\n",
              "      <td></td>\n",
              "      <td>Peter Obi</td>\n",
              "    </tr>\n",
              "    <tr>\n",
              "      <th>4</th>\n",
              "      <td>1597742003680575488</td>\n",
              "      <td>1597486726104363008</td>\n",
              "      <td>1.669766e+12</td>\n",
              "      <td>2022-11-29 23:59:12</td>\n",
              "      <td>+0000</td>\n",
              "      <td></td>\n",
              "      <td>@alabiopeyemiola @officialABAT Your leader loo...</td>\n",
              "      <td>en</td>\n",
              "      <td>[]</td>\n",
              "      <td>[]</td>\n",
              "      <td>...</td>\n",
              "      <td></td>\n",
              "      <td></td>\n",
              "      <td></td>\n",
              "      <td></td>\n",
              "      <td>[{'screen_name': 'alabiopeyemiola', 'name': 'A...</td>\n",
              "      <td></td>\n",
              "      <td></td>\n",
              "      <td></td>\n",
              "      <td></td>\n",
              "      <td>Peter Obi</td>\n",
              "    </tr>\n",
              "  </tbody>\n",
              "</table>\n",
              "<p>5 rows × 39 columns</p>\n",
              "</div>\n",
              "      <button class=\"colab-df-convert\" onclick=\"convertToInteractive('df-2a24df52-0a79-429c-950d-f5b4acbe1eba')\"\n",
              "              title=\"Convert this dataframe to an interactive table.\"\n",
              "              style=\"display:none;\">\n",
              "        \n",
              "  <svg xmlns=\"http://www.w3.org/2000/svg\" height=\"24px\"viewBox=\"0 0 24 24\"\n",
              "       width=\"24px\">\n",
              "    <path d=\"M0 0h24v24H0V0z\" fill=\"none\"/>\n",
              "    <path d=\"M18.56 5.44l.94 2.06.94-2.06 2.06-.94-2.06-.94-.94-2.06-.94 2.06-2.06.94zm-11 1L8.5 8.5l.94-2.06 2.06-.94-2.06-.94L8.5 2.5l-.94 2.06-2.06.94zm10 10l.94 2.06.94-2.06 2.06-.94-2.06-.94-.94-2.06-.94 2.06-2.06.94z\"/><path d=\"M17.41 7.96l-1.37-1.37c-.4-.4-.92-.59-1.43-.59-.52 0-1.04.2-1.43.59L10.3 9.45l-7.72 7.72c-.78.78-.78 2.05 0 2.83L4 21.41c.39.39.9.59 1.41.59.51 0 1.02-.2 1.41-.59l7.78-7.78 2.81-2.81c.8-.78.8-2.07 0-2.86zM5.41 20L4 18.59l7.72-7.72 1.47 1.35L5.41 20z\"/>\n",
              "  </svg>\n",
              "      </button>\n",
              "      \n",
              "  <style>\n",
              "    .colab-df-container {\n",
              "      display:flex;\n",
              "      flex-wrap:wrap;\n",
              "      gap: 12px;\n",
              "    }\n",
              "\n",
              "    .colab-df-convert {\n",
              "      background-color: #E8F0FE;\n",
              "      border: none;\n",
              "      border-radius: 50%;\n",
              "      cursor: pointer;\n",
              "      display: none;\n",
              "      fill: #1967D2;\n",
              "      height: 32px;\n",
              "      padding: 0 0 0 0;\n",
              "      width: 32px;\n",
              "    }\n",
              "\n",
              "    .colab-df-convert:hover {\n",
              "      background-color: #E2EBFA;\n",
              "      box-shadow: 0px 1px 2px rgba(60, 64, 67, 0.3), 0px 1px 3px 1px rgba(60, 64, 67, 0.15);\n",
              "      fill: #174EA6;\n",
              "    }\n",
              "\n",
              "    [theme=dark] .colab-df-convert {\n",
              "      background-color: #3B4455;\n",
              "      fill: #D2E3FC;\n",
              "    }\n",
              "\n",
              "    [theme=dark] .colab-df-convert:hover {\n",
              "      background-color: #434B5C;\n",
              "      box-shadow: 0px 1px 3px 1px rgba(0, 0, 0, 0.15);\n",
              "      filter: drop-shadow(0px 1px 2px rgba(0, 0, 0, 0.3));\n",
              "      fill: #FFFFFF;\n",
              "    }\n",
              "  </style>\n",
              "\n",
              "      <script>\n",
              "        const buttonEl =\n",
              "          document.querySelector('#df-2a24df52-0a79-429c-950d-f5b4acbe1eba button.colab-df-convert');\n",
              "        buttonEl.style.display =\n",
              "          google.colab.kernel.accessAllowed ? 'block' : 'none';\n",
              "\n",
              "        async function convertToInteractive(key) {\n",
              "          const element = document.querySelector('#df-2a24df52-0a79-429c-950d-f5b4acbe1eba');\n",
              "          const dataTable =\n",
              "            await google.colab.kernel.invokeFunction('convertToInteractive',\n",
              "                                                     [key], {});\n",
              "          if (!dataTable) return;\n",
              "\n",
              "          const docLinkHtml = 'Like what you see? Visit the ' +\n",
              "            '<a target=\"_blank\" href=https://colab.research.google.com/notebooks/data_table.ipynb>data table notebook</a>'\n",
              "            + ' to learn more about interactive tables.';\n",
              "          element.innerHTML = '';\n",
              "          dataTable['output_type'] = 'display_data';\n",
              "          await google.colab.output.renderOutput(dataTable, element);\n",
              "          const docLink = document.createElement('div');\n",
              "          docLink.innerHTML = docLinkHtml;\n",
              "          element.appendChild(docLink);\n",
              "        }\n",
              "      </script>\n",
              "    </div>\n",
              "  </div>\n",
              "  "
            ]
          },
          "metadata": {},
          "execution_count": 13
        }
      ]
    },
    {
      "cell_type": "markdown",
      "source": [
        "#Precleaning"
      ],
      "metadata": {
        "id": "D-PB4Rh7_ew0"
      }
    },
    {
      "cell_type": "code",
      "source": [
        "tweets_df.shape"
      ],
      "metadata": {
        "colab": {
          "base_uri": "https://localhost:8080/"
        },
        "id": "eAcbNAGU_hd4",
        "outputId": "01935707-97f5-4ec8-e897-a9ac7a9d0c49"
      },
      "execution_count": 14,
      "outputs": [
        {
          "output_type": "execute_result",
          "data": {
            "text/plain": [
              "(6026, 39)"
            ]
          },
          "metadata": {},
          "execution_count": 14
        }
      ]
    },
    {
      "cell_type": "code",
      "source": [
        "tweets_df.columns"
      ],
      "metadata": {
        "colab": {
          "base_uri": "https://localhost:8080/"
        },
        "id": "Tyi3Ebri_vrD",
        "outputId": "7e948e6f-8c18-4f74-e09c-05d4706320de"
      },
      "execution_count": 15,
      "outputs": [
        {
          "output_type": "execute_result",
          "data": {
            "text/plain": [
              "Index(['id', 'conversation_id', 'created_at', 'date', 'timezone', 'place',\n",
              "       'tweet', 'language', 'hashtags', 'cashtags', 'user_id', 'user_id_str',\n",
              "       'username', 'name', 'day', 'hour', 'link', 'urls', 'photos', 'video',\n",
              "       'thumbnail', 'retweet', 'nlikes', 'nreplies', 'nretweets', 'quote_url',\n",
              "       'search', 'near', 'geo', 'source', 'user_rt_id', 'user_rt',\n",
              "       'retweet_id', 'reply_to', 'retweet_date', 'translate', 'trans_src',\n",
              "       'trans_dest', 'Candidate'],\n",
              "      dtype='object')"
            ]
          },
          "metadata": {},
          "execution_count": 15
        }
      ]
    },
    {
      "cell_type": "code",
      "source": [
        "#Language analysis\n",
        "#removing any language that is not english or undefined\n",
        "tweets_df[\"language\"].unique()"
      ],
      "metadata": {
        "colab": {
          "base_uri": "https://localhost:8080/"
        },
        "id": "jOPn8TyjDfA4",
        "outputId": "9ead4c3f-b17d-44d1-9a6c-274e2ae925e1"
      },
      "execution_count": 16,
      "outputs": [
        {
          "output_type": "execute_result",
          "data": {
            "text/plain": [
              "array(['en', 'qam', 'in', 'ht', 'es', 'und', 'tr', 'zxx', 'qme', 'tl',\n",
              "       'art', 'qst', 'pt', 'hi', 'lv', 'it', 'da', 'ro', 'fr', 'et', 'cs',\n",
              "       'sv', 'no', 'sl', 'pl', 'vi', 'nl', 'is', 'eu', 'cy', 'ca', 'lt',\n",
              "       'de', 'ja', 'qht', 'ar', 'fi'], dtype=object)"
            ]
          },
          "metadata": {},
          "execution_count": 16
        }
      ]
    },
    {
      "cell_type": "code",
      "source": [
        "# remove all rows where language is not english or undefined\n",
        "tweets_df = tweets_df[tweets_df[\"language\"].isin([ 'und', 'en'])]"
      ],
      "metadata": {
        "id": "7f2rqsIjD_MD"
      },
      "execution_count": 17,
      "outputs": []
    },
    {
      "cell_type": "code",
      "source": [
        "#removing tweets from candidate's account\n",
        "tweets_df = tweets_df[ ~tweets_df[\"username\"].str.lower().str.contains('atiku|tinubu|peterobi|po|bolatinubu',regex = True)]"
      ],
      "metadata": {
        "id": "gkODclMM__VE"
      },
      "execution_count": 18,
      "outputs": []
    },
    {
      "cell_type": "code",
      "source": [
        "#Drop duplicated tweets \n",
        "tweets_df = tweets_df.drop_duplicates(subset=['date',\"tweet\",\"Candidate\"],keep=\"first\")"
      ],
      "metadata": {
        "id": "Bin4k3t3qaCS"
      },
      "execution_count": 19,
      "outputs": []
    },
    {
      "cell_type": "code",
      "source": [
        "len(tweets_df)"
      ],
      "metadata": {
        "colab": {
          "base_uri": "https://localhost:8080/"
        },
        "id": "EqYSMoFcq10y",
        "outputId": "c6baa1c8-9308-422f-f931-0f48a5e519d6"
      },
      "execution_count": 20,
      "outputs": [
        {
          "output_type": "execute_result",
          "data": {
            "text/plain": [
              "5228"
            ]
          },
          "metadata": {},
          "execution_count": 20
        }
      ]
    },
    {
      "cell_type": "code",
      "source": [
        "# Lowercase \n",
        "tweets_df['tweet']=tweets_df['tweet'].str.lower()\n",
        "tweets_df.head()"
      ],
      "metadata": {
        "colab": {
          "base_uri": "https://localhost:8080/",
          "height": 525
        },
        "id": "p-s5yKIBAMDY",
        "outputId": "0d435539-79c0-498c-821e-c7fea0836080"
      },
      "execution_count": 21,
      "outputs": [
        {
          "output_type": "execute_result",
          "data": {
            "text/plain": [
              "                    id      conversation_id    created_at  \\\n",
              "0  1597742167493324800  1597497317208526849  1.669766e+12   \n",
              "2  1597742122480046080  1597270737118957571  1.669766e+12   \n",
              "3  1597742080788680705  1597742080788680705  1.669766e+12   \n",
              "4  1597742003680575488  1597486726104363008  1.669766e+12   \n",
              "6  1597741991990685696  1597733984041308160  1.669766e+12   \n",
              "\n",
              "                  date timezone place  \\\n",
              "0  2022-11-29 23:59:52    +0000         \n",
              "2  2022-11-29 23:59:41    +0000         \n",
              "3  2022-11-29 23:59:31    +0000         \n",
              "4  2022-11-29 23:59:12    +0000         \n",
              "6  2022-11-29 23:59:10    +0000         \n",
              "\n",
              "                                               tweet language hashtags  \\\n",
              "0  @agoyi44dogzy @oluwatonianu @_mustapher_ @then...       en       []   \n",
              "2        @antixenophobian thank god she has a gun. 😳       en       []   \n",
              "3  we are making unbelievable progress 🙌 thanks b...       en       []   \n",
              "4  @alabiopeyemiola @officialabat your leader loo...       en       []   \n",
              "6  @redmillennial @branditovox @victorshi2020 leg...       en       []   \n",
              "\n",
              "  cashtags  ...  source user_rt_id user_rt retweet_id  \\\n",
              "0       []  ...                                         \n",
              "2       []  ...                                         \n",
              "3       []  ...                                         \n",
              "4       []  ...                                         \n",
              "6       []  ...                                         \n",
              "\n",
              "                                            reply_to retweet_date translate  \\\n",
              "0  [{'screen_name': 'agoyi44dogzy', 'name': 'Abdu...                          \n",
              "2  [{'screen_name': 'AntiXenophobian', 'name': 'A...                          \n",
              "3                                                 []                          \n",
              "4  [{'screen_name': 'alabiopeyemiola', 'name': 'A...                          \n",
              "6  [{'screen_name': 'redmillennial', 'name': '.',...                          \n",
              "\n",
              "  trans_src trans_dest  Candidate  \n",
              "0                       Peter Obi  \n",
              "2                       Peter Obi  \n",
              "3                       Peter Obi  \n",
              "4                       Peter Obi  \n",
              "6                       Peter Obi  \n",
              "\n",
              "[5 rows x 39 columns]"
            ],
            "text/html": [
              "\n",
              "  <div id=\"df-384b0bf4-c200-4049-b90e-26575da10efe\">\n",
              "    <div class=\"colab-df-container\">\n",
              "      <div>\n",
              "<style scoped>\n",
              "    .dataframe tbody tr th:only-of-type {\n",
              "        vertical-align: middle;\n",
              "    }\n",
              "\n",
              "    .dataframe tbody tr th {\n",
              "        vertical-align: top;\n",
              "    }\n",
              "\n",
              "    .dataframe thead th {\n",
              "        text-align: right;\n",
              "    }\n",
              "</style>\n",
              "<table border=\"1\" class=\"dataframe\">\n",
              "  <thead>\n",
              "    <tr style=\"text-align: right;\">\n",
              "      <th></th>\n",
              "      <th>id</th>\n",
              "      <th>conversation_id</th>\n",
              "      <th>created_at</th>\n",
              "      <th>date</th>\n",
              "      <th>timezone</th>\n",
              "      <th>place</th>\n",
              "      <th>tweet</th>\n",
              "      <th>language</th>\n",
              "      <th>hashtags</th>\n",
              "      <th>cashtags</th>\n",
              "      <th>...</th>\n",
              "      <th>source</th>\n",
              "      <th>user_rt_id</th>\n",
              "      <th>user_rt</th>\n",
              "      <th>retweet_id</th>\n",
              "      <th>reply_to</th>\n",
              "      <th>retweet_date</th>\n",
              "      <th>translate</th>\n",
              "      <th>trans_src</th>\n",
              "      <th>trans_dest</th>\n",
              "      <th>Candidate</th>\n",
              "    </tr>\n",
              "  </thead>\n",
              "  <tbody>\n",
              "    <tr>\n",
              "      <th>0</th>\n",
              "      <td>1597742167493324800</td>\n",
              "      <td>1597497317208526849</td>\n",
              "      <td>1.669766e+12</td>\n",
              "      <td>2022-11-29 23:59:52</td>\n",
              "      <td>+0000</td>\n",
              "      <td></td>\n",
              "      <td>@agoyi44dogzy @oluwatonianu @_mustapher_ @then...</td>\n",
              "      <td>en</td>\n",
              "      <td>[]</td>\n",
              "      <td>[]</td>\n",
              "      <td>...</td>\n",
              "      <td></td>\n",
              "      <td></td>\n",
              "      <td></td>\n",
              "      <td></td>\n",
              "      <td>[{'screen_name': 'agoyi44dogzy', 'name': 'Abdu...</td>\n",
              "      <td></td>\n",
              "      <td></td>\n",
              "      <td></td>\n",
              "      <td></td>\n",
              "      <td>Peter Obi</td>\n",
              "    </tr>\n",
              "    <tr>\n",
              "      <th>2</th>\n",
              "      <td>1597742122480046080</td>\n",
              "      <td>1597270737118957571</td>\n",
              "      <td>1.669766e+12</td>\n",
              "      <td>2022-11-29 23:59:41</td>\n",
              "      <td>+0000</td>\n",
              "      <td></td>\n",
              "      <td>@antixenophobian thank god she has a gun. 😳</td>\n",
              "      <td>en</td>\n",
              "      <td>[]</td>\n",
              "      <td>[]</td>\n",
              "      <td>...</td>\n",
              "      <td></td>\n",
              "      <td></td>\n",
              "      <td></td>\n",
              "      <td></td>\n",
              "      <td>[{'screen_name': 'AntiXenophobian', 'name': 'A...</td>\n",
              "      <td></td>\n",
              "      <td></td>\n",
              "      <td></td>\n",
              "      <td></td>\n",
              "      <td>Peter Obi</td>\n",
              "    </tr>\n",
              "    <tr>\n",
              "      <th>3</th>\n",
              "      <td>1597742080788680705</td>\n",
              "      <td>1597742080788680705</td>\n",
              "      <td>1.669766e+12</td>\n",
              "      <td>2022-11-29 23:59:31</td>\n",
              "      <td>+0000</td>\n",
              "      <td></td>\n",
              "      <td>we are making unbelievable progress 🙌 thanks b...</td>\n",
              "      <td>en</td>\n",
              "      <td>[]</td>\n",
              "      <td>[]</td>\n",
              "      <td>...</td>\n",
              "      <td></td>\n",
              "      <td></td>\n",
              "      <td></td>\n",
              "      <td></td>\n",
              "      <td>[]</td>\n",
              "      <td></td>\n",
              "      <td></td>\n",
              "      <td></td>\n",
              "      <td></td>\n",
              "      <td>Peter Obi</td>\n",
              "    </tr>\n",
              "    <tr>\n",
              "      <th>4</th>\n",
              "      <td>1597742003680575488</td>\n",
              "      <td>1597486726104363008</td>\n",
              "      <td>1.669766e+12</td>\n",
              "      <td>2022-11-29 23:59:12</td>\n",
              "      <td>+0000</td>\n",
              "      <td></td>\n",
              "      <td>@alabiopeyemiola @officialabat your leader loo...</td>\n",
              "      <td>en</td>\n",
              "      <td>[]</td>\n",
              "      <td>[]</td>\n",
              "      <td>...</td>\n",
              "      <td></td>\n",
              "      <td></td>\n",
              "      <td></td>\n",
              "      <td></td>\n",
              "      <td>[{'screen_name': 'alabiopeyemiola', 'name': 'A...</td>\n",
              "      <td></td>\n",
              "      <td></td>\n",
              "      <td></td>\n",
              "      <td></td>\n",
              "      <td>Peter Obi</td>\n",
              "    </tr>\n",
              "    <tr>\n",
              "      <th>6</th>\n",
              "      <td>1597741991990685696</td>\n",
              "      <td>1597733984041308160</td>\n",
              "      <td>1.669766e+12</td>\n",
              "      <td>2022-11-29 23:59:10</td>\n",
              "      <td>+0000</td>\n",
              "      <td></td>\n",
              "      <td>@redmillennial @branditovox @victorshi2020 leg...</td>\n",
              "      <td>en</td>\n",
              "      <td>[]</td>\n",
              "      <td>[]</td>\n",
              "      <td>...</td>\n",
              "      <td></td>\n",
              "      <td></td>\n",
              "      <td></td>\n",
              "      <td></td>\n",
              "      <td>[{'screen_name': 'redmillennial', 'name': '.',...</td>\n",
              "      <td></td>\n",
              "      <td></td>\n",
              "      <td></td>\n",
              "      <td></td>\n",
              "      <td>Peter Obi</td>\n",
              "    </tr>\n",
              "  </tbody>\n",
              "</table>\n",
              "<p>5 rows × 39 columns</p>\n",
              "</div>\n",
              "      <button class=\"colab-df-convert\" onclick=\"convertToInteractive('df-384b0bf4-c200-4049-b90e-26575da10efe')\"\n",
              "              title=\"Convert this dataframe to an interactive table.\"\n",
              "              style=\"display:none;\">\n",
              "        \n",
              "  <svg xmlns=\"http://www.w3.org/2000/svg\" height=\"24px\"viewBox=\"0 0 24 24\"\n",
              "       width=\"24px\">\n",
              "    <path d=\"M0 0h24v24H0V0z\" fill=\"none\"/>\n",
              "    <path d=\"M18.56 5.44l.94 2.06.94-2.06 2.06-.94-2.06-.94-.94-2.06-.94 2.06-2.06.94zm-11 1L8.5 8.5l.94-2.06 2.06-.94-2.06-.94L8.5 2.5l-.94 2.06-2.06.94zm10 10l.94 2.06.94-2.06 2.06-.94-2.06-.94-.94-2.06-.94 2.06-2.06.94z\"/><path d=\"M17.41 7.96l-1.37-1.37c-.4-.4-.92-.59-1.43-.59-.52 0-1.04.2-1.43.59L10.3 9.45l-7.72 7.72c-.78.78-.78 2.05 0 2.83L4 21.41c.39.39.9.59 1.41.59.51 0 1.02-.2 1.41-.59l7.78-7.78 2.81-2.81c.8-.78.8-2.07 0-2.86zM5.41 20L4 18.59l7.72-7.72 1.47 1.35L5.41 20z\"/>\n",
              "  </svg>\n",
              "      </button>\n",
              "      \n",
              "  <style>\n",
              "    .colab-df-container {\n",
              "      display:flex;\n",
              "      flex-wrap:wrap;\n",
              "      gap: 12px;\n",
              "    }\n",
              "\n",
              "    .colab-df-convert {\n",
              "      background-color: #E8F0FE;\n",
              "      border: none;\n",
              "      border-radius: 50%;\n",
              "      cursor: pointer;\n",
              "      display: none;\n",
              "      fill: #1967D2;\n",
              "      height: 32px;\n",
              "      padding: 0 0 0 0;\n",
              "      width: 32px;\n",
              "    }\n",
              "\n",
              "    .colab-df-convert:hover {\n",
              "      background-color: #E2EBFA;\n",
              "      box-shadow: 0px 1px 2px rgba(60, 64, 67, 0.3), 0px 1px 3px 1px rgba(60, 64, 67, 0.15);\n",
              "      fill: #174EA6;\n",
              "    }\n",
              "\n",
              "    [theme=dark] .colab-df-convert {\n",
              "      background-color: #3B4455;\n",
              "      fill: #D2E3FC;\n",
              "    }\n",
              "\n",
              "    [theme=dark] .colab-df-convert:hover {\n",
              "      background-color: #434B5C;\n",
              "      box-shadow: 0px 1px 3px 1px rgba(0, 0, 0, 0.15);\n",
              "      filter: drop-shadow(0px 1px 2px rgba(0, 0, 0, 0.3));\n",
              "      fill: #FFFFFF;\n",
              "    }\n",
              "  </style>\n",
              "\n",
              "      <script>\n",
              "        const buttonEl =\n",
              "          document.querySelector('#df-384b0bf4-c200-4049-b90e-26575da10efe button.colab-df-convert');\n",
              "        buttonEl.style.display =\n",
              "          google.colab.kernel.accessAllowed ? 'block' : 'none';\n",
              "\n",
              "        async function convertToInteractive(key) {\n",
              "          const element = document.querySelector('#df-384b0bf4-c200-4049-b90e-26575da10efe');\n",
              "          const dataTable =\n",
              "            await google.colab.kernel.invokeFunction('convertToInteractive',\n",
              "                                                     [key], {});\n",
              "          if (!dataTable) return;\n",
              "\n",
              "          const docLinkHtml = 'Like what you see? Visit the ' +\n",
              "            '<a target=\"_blank\" href=https://colab.research.google.com/notebooks/data_table.ipynb>data table notebook</a>'\n",
              "            + ' to learn more about interactive tables.';\n",
              "          element.innerHTML = '';\n",
              "          dataTable['output_type'] = 'display_data';\n",
              "          await google.colab.output.renderOutput(dataTable, element);\n",
              "          const docLink = document.createElement('div');\n",
              "          docLink.innerHTML = docLinkHtml;\n",
              "          element.appendChild(docLink);\n",
              "        }\n",
              "      </script>\n",
              "    </div>\n",
              "  </div>\n",
              "  "
            ]
          },
          "metadata": {},
          "execution_count": 21
        }
      ]
    },
    {
      "cell_type": "markdown",
      "source": [
        "#Cleaning Tweets\n",
        "\n",
        "removing punctuations and symbols"
      ],
      "metadata": {
        "id": "fZlZhpHkPp-F"
      }
    },
    {
      "cell_type": "code",
      "source": [
        "#the function will take in a few patterns , such as links, @usernames, hashtags, numbers etc. \n",
        "#and replace these patterns with an empty string.\n",
        "\n",
        "def clean_text(text):  \n",
        "    pat1 = r'@[^ ]+'                   \n",
        "    pat2 = r'https?://[A-Za-z0-9./]+'  \n",
        "    pat3 = r'\\'s'                      \n",
        "    pat4 = r'\\#\\w+'                     \n",
        "    pat5 = r'&amp '                     \n",
        "    pat6 = r'[^A-Za-z\\s]'               \n",
        "    combined_pat = r'|'.join((pat1, pat2,pat3,pat4,pat5, pat6))\n",
        "    text = re.sub(combined_pat,\"\",text).lower()\n",
        "    return text.strip()"
      ],
      "metadata": {
        "id": "MgxEZ4aiPnBN"
      },
      "execution_count": 22,
      "outputs": []
    },
    {
      "cell_type": "code",
      "source": [
        "%%time\n",
        "tweets_df[\"cleaned_tweet\"] = tweets_df[\"tweet\"].apply(clean_text)"
      ],
      "metadata": {
        "colab": {
          "base_uri": "https://localhost:8080/"
        },
        "id": "9JBEMC_lReNr",
        "outputId": "d6cf09de-d50b-4b3e-84f8-6a240490add1"
      },
      "execution_count": 23,
      "outputs": [
        {
          "output_type": "stream",
          "name": "stdout",
          "text": [
            "CPU times: user 55.8 ms, sys: 805 µs, total: 56.6 ms\n",
            "Wall time: 59.5 ms\n"
          ]
        }
      ]
    },
    {
      "cell_type": "code",
      "source": [
        "#drop empty rows\n",
        "tweets_df = tweets_df [ ~(tweets_df[\"tweet\"] ==\"\")]"
      ],
      "metadata": {
        "id": "6oGPGO5CRldU"
      },
      "execution_count": 24,
      "outputs": []
    },
    {
      "cell_type": "code",
      "source": [
        "tweets_df[\"cleaned_tweet\"].head()"
      ],
      "metadata": {
        "colab": {
          "base_uri": "https://localhost:8080/"
        },
        "id": "4ZIWO2CbRwwa",
        "outputId": "be0a4fc3-34f4-4ec5-bd2a-c9a044406aee"
      },
      "execution_count": 25,
      "outputs": [
        {
          "output_type": "execute_result",
          "data": {
            "text/plain": [
              "0    he invested so much in these sectors ive been ...\n",
              "2                              thank god she has a gun\n",
              "3    we are making unbelievable progress  thanks be...\n",
              "4                 your leader looks tired and he limps\n",
              "6      legal via scotus which can be overturned anyday\n",
              "Name: cleaned_tweet, dtype: object"
            ]
          },
          "metadata": {},
          "execution_count": 25
        }
      ]
    },
    {
      "cell_type": "code",
      "source": [
        "#converting and saving cleaned tweet\n",
        "\n",
        "\n",
        "# converting to CSV file\n",
        "tweets_df.to_csv(\"cleaned_presidential.csv\")"
      ],
      "metadata": {
        "id": "oKFvkeQ6R5Gc"
      },
      "execution_count": 26,
      "outputs": []
    },
    {
      "cell_type": "code",
      "source": [
        "# reset the index \n",
        "tweets_df.reset_index(drop= True,inplace=True)"
      ],
      "metadata": {
        "id": "OagZGykqS7Uh"
      },
      "execution_count": 27,
      "outputs": []
    },
    {
      "cell_type": "markdown",
      "source": [
        "#Sentiment Analysis"
      ],
      "metadata": {
        "id": "eSPiX5vzTAiP"
      }
    },
    {
      "cell_type": "code",
      "source": [
        "%%time\n",
        "print(\"Running sentiment process\")\n",
        "for row in tweets_df.itertuples():\n",
        "    tweet = tweets_df.at[row[0], 'cleaned_tweet']\n",
        "\n",
        "    #run sentiment using TextBlob\n",
        "    analysis = TextBlob(tweet)\n",
        "\n",
        "    #set value to dataframe\n",
        "    tweets_df.at[row[0], 'polarity'] = analysis.sentiment[0]\n",
        "    tweets_df.at[row[0], 'subjectivity'] = analysis.sentiment[1]\n",
        "\n",
        "    #Create Positive / negative column depending on polarity\n",
        "    if analysis.sentiment[0]>0:\n",
        "        tweets_df.at[row[0], 'Sentiment'] = \"Positive\"\n",
        "    elif analysis.sentiment[0]<0:\n",
        "        tweets_df.at[row[0], 'Sentiment'] = \"Negative\"\n",
        "    else:\n",
        "        tweets_df.at[row[0], 'Sentiment'] = \"Neutral\""
      ],
      "metadata": {
        "colab": {
          "base_uri": "https://localhost:8080/"
        },
        "id": "dMFxYENdTD20",
        "outputId": "e9a6d8cc-958f-4e7d-8b66-b165cdff3a2e"
      },
      "execution_count": 28,
      "outputs": [
        {
          "output_type": "stream",
          "name": "stdout",
          "text": [
            "Running sentiment process\n",
            "CPU times: user 1.69 s, sys: 1.92 ms, total: 1.69 s\n",
            "Wall time: 1.7 s\n"
          ]
        }
      ]
    },
    {
      "cell_type": "code",
      "source": [
        "tweets_df[[\"cleaned_tweet\",\"polarity\",\"Sentiment\"]].head(5)"
      ],
      "metadata": {
        "colab": {
          "base_uri": "https://localhost:8080/",
          "height": 206
        },
        "id": "NDKo_qwPTXWE",
        "outputId": "0c2cb0cf-e1a5-45cc-c8d7-da997100bda4"
      },
      "execution_count": 29,
      "outputs": [
        {
          "output_type": "execute_result",
          "data": {
            "text/plain": [
              "                                       cleaned_tweet  polarity Sentiment\n",
              "0  he invested so much in these sectors ive been ...  0.004167  Positive\n",
              "1                            thank god she has a gun  0.000000   Neutral\n",
              "2  we are making unbelievable progress  thanks be...  0.112500  Positive\n",
              "3               your leader looks tired and he limps -0.400000  Negative\n",
              "4    legal via scotus which can be overturned anyday  0.200000  Positive"
            ],
            "text/html": [
              "\n",
              "  <div id=\"df-57c84914-396c-4b34-911d-3077202c7bb6\">\n",
              "    <div class=\"colab-df-container\">\n",
              "      <div>\n",
              "<style scoped>\n",
              "    .dataframe tbody tr th:only-of-type {\n",
              "        vertical-align: middle;\n",
              "    }\n",
              "\n",
              "    .dataframe tbody tr th {\n",
              "        vertical-align: top;\n",
              "    }\n",
              "\n",
              "    .dataframe thead th {\n",
              "        text-align: right;\n",
              "    }\n",
              "</style>\n",
              "<table border=\"1\" class=\"dataframe\">\n",
              "  <thead>\n",
              "    <tr style=\"text-align: right;\">\n",
              "      <th></th>\n",
              "      <th>cleaned_tweet</th>\n",
              "      <th>polarity</th>\n",
              "      <th>Sentiment</th>\n",
              "    </tr>\n",
              "  </thead>\n",
              "  <tbody>\n",
              "    <tr>\n",
              "      <th>0</th>\n",
              "      <td>he invested so much in these sectors ive been ...</td>\n",
              "      <td>0.004167</td>\n",
              "      <td>Positive</td>\n",
              "    </tr>\n",
              "    <tr>\n",
              "      <th>1</th>\n",
              "      <td>thank god she has a gun</td>\n",
              "      <td>0.000000</td>\n",
              "      <td>Neutral</td>\n",
              "    </tr>\n",
              "    <tr>\n",
              "      <th>2</th>\n",
              "      <td>we are making unbelievable progress  thanks be...</td>\n",
              "      <td>0.112500</td>\n",
              "      <td>Positive</td>\n",
              "    </tr>\n",
              "    <tr>\n",
              "      <th>3</th>\n",
              "      <td>your leader looks tired and he limps</td>\n",
              "      <td>-0.400000</td>\n",
              "      <td>Negative</td>\n",
              "    </tr>\n",
              "    <tr>\n",
              "      <th>4</th>\n",
              "      <td>legal via scotus which can be overturned anyday</td>\n",
              "      <td>0.200000</td>\n",
              "      <td>Positive</td>\n",
              "    </tr>\n",
              "  </tbody>\n",
              "</table>\n",
              "</div>\n",
              "      <button class=\"colab-df-convert\" onclick=\"convertToInteractive('df-57c84914-396c-4b34-911d-3077202c7bb6')\"\n",
              "              title=\"Convert this dataframe to an interactive table.\"\n",
              "              style=\"display:none;\">\n",
              "        \n",
              "  <svg xmlns=\"http://www.w3.org/2000/svg\" height=\"24px\"viewBox=\"0 0 24 24\"\n",
              "       width=\"24px\">\n",
              "    <path d=\"M0 0h24v24H0V0z\" fill=\"none\"/>\n",
              "    <path d=\"M18.56 5.44l.94 2.06.94-2.06 2.06-.94-2.06-.94-.94-2.06-.94 2.06-2.06.94zm-11 1L8.5 8.5l.94-2.06 2.06-.94-2.06-.94L8.5 2.5l-.94 2.06-2.06.94zm10 10l.94 2.06.94-2.06 2.06-.94-2.06-.94-.94-2.06-.94 2.06-2.06.94z\"/><path d=\"M17.41 7.96l-1.37-1.37c-.4-.4-.92-.59-1.43-.59-.52 0-1.04.2-1.43.59L10.3 9.45l-7.72 7.72c-.78.78-.78 2.05 0 2.83L4 21.41c.39.39.9.59 1.41.59.51 0 1.02-.2 1.41-.59l7.78-7.78 2.81-2.81c.8-.78.8-2.07 0-2.86zM5.41 20L4 18.59l7.72-7.72 1.47 1.35L5.41 20z\"/>\n",
              "  </svg>\n",
              "      </button>\n",
              "      \n",
              "  <style>\n",
              "    .colab-df-container {\n",
              "      display:flex;\n",
              "      flex-wrap:wrap;\n",
              "      gap: 12px;\n",
              "    }\n",
              "\n",
              "    .colab-df-convert {\n",
              "      background-color: #E8F0FE;\n",
              "      border: none;\n",
              "      border-radius: 50%;\n",
              "      cursor: pointer;\n",
              "      display: none;\n",
              "      fill: #1967D2;\n",
              "      height: 32px;\n",
              "      padding: 0 0 0 0;\n",
              "      width: 32px;\n",
              "    }\n",
              "\n",
              "    .colab-df-convert:hover {\n",
              "      background-color: #E2EBFA;\n",
              "      box-shadow: 0px 1px 2px rgba(60, 64, 67, 0.3), 0px 1px 3px 1px rgba(60, 64, 67, 0.15);\n",
              "      fill: #174EA6;\n",
              "    }\n",
              "\n",
              "    [theme=dark] .colab-df-convert {\n",
              "      background-color: #3B4455;\n",
              "      fill: #D2E3FC;\n",
              "    }\n",
              "\n",
              "    [theme=dark] .colab-df-convert:hover {\n",
              "      background-color: #434B5C;\n",
              "      box-shadow: 0px 1px 3px 1px rgba(0, 0, 0, 0.15);\n",
              "      filter: drop-shadow(0px 1px 2px rgba(0, 0, 0, 0.3));\n",
              "      fill: #FFFFFF;\n",
              "    }\n",
              "  </style>\n",
              "\n",
              "      <script>\n",
              "        const buttonEl =\n",
              "          document.querySelector('#df-57c84914-396c-4b34-911d-3077202c7bb6 button.colab-df-convert');\n",
              "        buttonEl.style.display =\n",
              "          google.colab.kernel.accessAllowed ? 'block' : 'none';\n",
              "\n",
              "        async function convertToInteractive(key) {\n",
              "          const element = document.querySelector('#df-57c84914-396c-4b34-911d-3077202c7bb6');\n",
              "          const dataTable =\n",
              "            await google.colab.kernel.invokeFunction('convertToInteractive',\n",
              "                                                     [key], {});\n",
              "          if (!dataTable) return;\n",
              "\n",
              "          const docLinkHtml = 'Like what you see? Visit the ' +\n",
              "            '<a target=\"_blank\" href=https://colab.research.google.com/notebooks/data_table.ipynb>data table notebook</a>'\n",
              "            + ' to learn more about interactive tables.';\n",
              "          element.innerHTML = '';\n",
              "          dataTable['output_type'] = 'display_data';\n",
              "          await google.colab.output.renderOutput(dataTable, element);\n",
              "          const docLink = document.createElement('div');\n",
              "          docLink.innerHTML = docLinkHtml;\n",
              "          element.appendChild(docLink);\n",
              "        }\n",
              "      </script>\n",
              "    </div>\n",
              "  </div>\n",
              "  "
            ]
          },
          "metadata": {},
          "execution_count": 29
        }
      ]
    },
    {
      "cell_type": "code",
      "source": [
        "tweets_df.reset_index(drop = True,inplace=True)"
      ],
      "metadata": {
        "id": "O5mgDqEWTnsg"
      },
      "execution_count": 30,
      "outputs": []
    },
    {
      "cell_type": "markdown",
      "source": [
        "#Analysis and visualization"
      ],
      "metadata": {
        "id": "i01HHD2fUeKd"
      }
    },
    {
      "cell_type": "code",
      "source": [
        "#install additional libraries for visualisation \n",
        "import ast #optional\n",
        "from collections import Counter\n",
        "\n",
        "import cufflinks as cf\n",
        "from plotly.offline import init_notebook_mode #, plot, iplot, download_plotlyjs\n",
        "init_notebook_mode(connected = True)\n",
        "cf.go_offline()\n",
        "\n",
        "import plotly.graph_objects as go\n",
        "from plotly.subplots import make_subplots"
      ],
      "metadata": {
        "colab": {
          "base_uri": "https://localhost:8080/",
          "height": 17
        },
        "id": "krqzg4lqTpYy",
        "outputId": "9300078f-87f4-44c8-e1c7-d406a1e62022"
      },
      "execution_count": 31,
      "outputs": [
        {
          "output_type": "display_data",
          "data": {
            "text/html": [
              "        <script type=\"text/javascript\">\n",
              "        window.PlotlyConfig = {MathJaxConfig: 'local'};\n",
              "        if (window.MathJax) {MathJax.Hub.Config({SVG: {font: \"STIX-Web\"}});}\n",
              "        if (typeof require !== 'undefined') {\n",
              "        require.undef(\"plotly\");\n",
              "        requirejs.config({\n",
              "            paths: {\n",
              "                'plotly': ['https://cdn.plot.ly/plotly-2.8.3.min']\n",
              "            }\n",
              "        });\n",
              "        require(['plotly'], function(Plotly) {\n",
              "            window._Plotly = Plotly;\n",
              "        });\n",
              "        }\n",
              "        </script>\n",
              "        "
            ]
          },
          "metadata": {}
        },
        {
          "output_type": "display_data",
          "data": {
            "text/html": [
              "        <script type=\"text/javascript\">\n",
              "        window.PlotlyConfig = {MathJaxConfig: 'local'};\n",
              "        if (window.MathJax) {MathJax.Hub.Config({SVG: {font: \"STIX-Web\"}});}\n",
              "        if (typeof require !== 'undefined') {\n",
              "        require.undef(\"plotly\");\n",
              "        requirejs.config({\n",
              "            paths: {\n",
              "                'plotly': ['https://cdn.plot.ly/plotly-2.8.3.min']\n",
              "            }\n",
              "        });\n",
              "        require(['plotly'], function(Plotly) {\n",
              "            window._Plotly = Plotly;\n",
              "        });\n",
              "        }\n",
              "        </script>\n",
              "        "
            ]
          },
          "metadata": {}
        }
      ]
    },
    {
      "cell_type": "code",
      "source": [
        "# Set Pallette \n",
        "sns.set_theme()\n",
        "pal = {\"Peter Obi\":'c', \"Atiku Abubakar\":\"b\",\"Bola Tinubu\":\"r\"}"
      ],
      "metadata": {
        "id": "dMqR7AqoVuxE"
      },
      "execution_count": 32,
      "outputs": []
    },
    {
      "cell_type": "code",
      "source": [
        "display(tweets_df[[\"cleaned_tweet\",\"Candidate\"]].groupby([\"Candidate\"]).count().transpose())\n",
        "\n",
        "plt.figure(figsize=(10,5))\n",
        "sns.histplot(tweets_df, x=\"Sentiment\", hue=\"Candidate\", palette= pal, multiple=\"stack\", alpha = 1)\n",
        "plt.title(\"Count of tweets by sentiment\",fontsize =15)\n",
        "\n",
        "plt.tight_layout()\n",
        "plt.show()"
      ],
      "metadata": {
        "colab": {
          "base_uri": "https://localhost:8080/",
          "height": 429
        },
        "id": "IZLvooNPXEkG",
        "outputId": "f5ba8e55-c04c-4d0c-c41e-a1a6ece0fa36"
      },
      "execution_count": 33,
      "outputs": [
        {
          "output_type": "display_data",
          "data": {
            "text/plain": [
              "Candidate      Atiku Abubakar  Bola Tinubu  Peter Obi\n",
              "cleaned_tweet            1655         1815       1758"
            ],
            "text/html": [
              "\n",
              "  <div id=\"df-31338f96-7cc5-4f82-95fd-3b27fad001b0\">\n",
              "    <div class=\"colab-df-container\">\n",
              "      <div>\n",
              "<style scoped>\n",
              "    .dataframe tbody tr th:only-of-type {\n",
              "        vertical-align: middle;\n",
              "    }\n",
              "\n",
              "    .dataframe tbody tr th {\n",
              "        vertical-align: top;\n",
              "    }\n",
              "\n",
              "    .dataframe thead th {\n",
              "        text-align: right;\n",
              "    }\n",
              "</style>\n",
              "<table border=\"1\" class=\"dataframe\">\n",
              "  <thead>\n",
              "    <tr style=\"text-align: right;\">\n",
              "      <th>Candidate</th>\n",
              "      <th>Atiku Abubakar</th>\n",
              "      <th>Bola Tinubu</th>\n",
              "      <th>Peter Obi</th>\n",
              "    </tr>\n",
              "  </thead>\n",
              "  <tbody>\n",
              "    <tr>\n",
              "      <th>cleaned_tweet</th>\n",
              "      <td>1655</td>\n",
              "      <td>1815</td>\n",
              "      <td>1758</td>\n",
              "    </tr>\n",
              "  </tbody>\n",
              "</table>\n",
              "</div>\n",
              "      <button class=\"colab-df-convert\" onclick=\"convertToInteractive('df-31338f96-7cc5-4f82-95fd-3b27fad001b0')\"\n",
              "              title=\"Convert this dataframe to an interactive table.\"\n",
              "              style=\"display:none;\">\n",
              "        \n",
              "  <svg xmlns=\"http://www.w3.org/2000/svg\" height=\"24px\"viewBox=\"0 0 24 24\"\n",
              "       width=\"24px\">\n",
              "    <path d=\"M0 0h24v24H0V0z\" fill=\"none\"/>\n",
              "    <path d=\"M18.56 5.44l.94 2.06.94-2.06 2.06-.94-2.06-.94-.94-2.06-.94 2.06-2.06.94zm-11 1L8.5 8.5l.94-2.06 2.06-.94-2.06-.94L8.5 2.5l-.94 2.06-2.06.94zm10 10l.94 2.06.94-2.06 2.06-.94-2.06-.94-.94-2.06-.94 2.06-2.06.94z\"/><path d=\"M17.41 7.96l-1.37-1.37c-.4-.4-.92-.59-1.43-.59-.52 0-1.04.2-1.43.59L10.3 9.45l-7.72 7.72c-.78.78-.78 2.05 0 2.83L4 21.41c.39.39.9.59 1.41.59.51 0 1.02-.2 1.41-.59l7.78-7.78 2.81-2.81c.8-.78.8-2.07 0-2.86zM5.41 20L4 18.59l7.72-7.72 1.47 1.35L5.41 20z\"/>\n",
              "  </svg>\n",
              "      </button>\n",
              "      \n",
              "  <style>\n",
              "    .colab-df-container {\n",
              "      display:flex;\n",
              "      flex-wrap:wrap;\n",
              "      gap: 12px;\n",
              "    }\n",
              "\n",
              "    .colab-df-convert {\n",
              "      background-color: #E8F0FE;\n",
              "      border: none;\n",
              "      border-radius: 50%;\n",
              "      cursor: pointer;\n",
              "      display: none;\n",
              "      fill: #1967D2;\n",
              "      height: 32px;\n",
              "      padding: 0 0 0 0;\n",
              "      width: 32px;\n",
              "    }\n",
              "\n",
              "    .colab-df-convert:hover {\n",
              "      background-color: #E2EBFA;\n",
              "      box-shadow: 0px 1px 2px rgba(60, 64, 67, 0.3), 0px 1px 3px 1px rgba(60, 64, 67, 0.15);\n",
              "      fill: #174EA6;\n",
              "    }\n",
              "\n",
              "    [theme=dark] .colab-df-convert {\n",
              "      background-color: #3B4455;\n",
              "      fill: #D2E3FC;\n",
              "    }\n",
              "\n",
              "    [theme=dark] .colab-df-convert:hover {\n",
              "      background-color: #434B5C;\n",
              "      box-shadow: 0px 1px 3px 1px rgba(0, 0, 0, 0.15);\n",
              "      filter: drop-shadow(0px 1px 2px rgba(0, 0, 0, 0.3));\n",
              "      fill: #FFFFFF;\n",
              "    }\n",
              "  </style>\n",
              "\n",
              "      <script>\n",
              "        const buttonEl =\n",
              "          document.querySelector('#df-31338f96-7cc5-4f82-95fd-3b27fad001b0 button.colab-df-convert');\n",
              "        buttonEl.style.display =\n",
              "          google.colab.kernel.accessAllowed ? 'block' : 'none';\n",
              "\n",
              "        async function convertToInteractive(key) {\n",
              "          const element = document.querySelector('#df-31338f96-7cc5-4f82-95fd-3b27fad001b0');\n",
              "          const dataTable =\n",
              "            await google.colab.kernel.invokeFunction('convertToInteractive',\n",
              "                                                     [key], {});\n",
              "          if (!dataTable) return;\n",
              "\n",
              "          const docLinkHtml = 'Like what you see? Visit the ' +\n",
              "            '<a target=\"_blank\" href=https://colab.research.google.com/notebooks/data_table.ipynb>data table notebook</a>'\n",
              "            + ' to learn more about interactive tables.';\n",
              "          element.innerHTML = '';\n",
              "          dataTable['output_type'] = 'display_data';\n",
              "          await google.colab.output.renderOutput(dataTable, element);\n",
              "          const docLink = document.createElement('div');\n",
              "          docLink.innerHTML = docLinkHtml;\n",
              "          element.appendChild(docLink);\n",
              "        }\n",
              "      </script>\n",
              "    </div>\n",
              "  </div>\n",
              "  "
            ]
          },
          "metadata": {}
        },
        {
          "output_type": "display_data",
          "data": {
            "text/plain": [
              "<Figure size 720x360 with 1 Axes>"
            ],
            "image/png": "[encoded data removed]"
          },
          "metadata": {}
        }
      ]
    },
    {
      "cell_type": "code",
      "source": [
        "# Saving the figure.\n",
        "plt.savefig(\"tweets.jpg\")"
      ],
      "metadata": {
        "colab": {
          "base_uri": "https://localhost:8080/",
          "height": 34
        },
        "id": "BHYP1ZVYBf2Q",
        "outputId": "619b3217-2ec0-4145-8159-cafbdd2a646b"
      },
      "execution_count": 70,
      "outputs": [
        {
          "output_type": "display_data",
          "data": {
            "text/plain": [
              "<Figure size 432x288 with 0 Axes>"
            ]
          },
          "metadata": {}
        }
      ]
    },
    {
      "cell_type": "code",
      "source": [
        "fig1 = sns.displot(tweets_df, x=\"Sentiment\", col=\"Candidate\",col_wrap= 2, hue=\"Candidate\", legend=False, palette= pal)\n",
        "fig1.fig.suptitle(\"Count of tweets by Sentiment\",fontsize =9)\n",
        "\n",
        "plt.tight_layout()\n",
        "plt.show()"
      ],
      "metadata": {
        "colab": {
          "base_uri": "https://localhost:8080/",
          "height": 725
        },
        "id": "dOVUmTjAv2qi",
        "outputId": "3f786659-ec32-4b16-f9d9-a9467307df22"
      },
      "execution_count": 36,
      "outputs": [
        {
          "output_type": "display_data",
          "data": {
            "text/plain": [
              "<Figure size 720x720 with 3 Axes>"
            ],
            "image/png": "[encoded data removed]"
          },
          "metadata": {}
        }
      ]
    },
    {
      "cell_type": "code",
      "source": [
        "# Saving the figure.\n",
        "plt.savefig(\"Sentiment.jpg\")"
      ],
      "metadata": {
        "colab": {
          "base_uri": "https://localhost:8080/",
          "height": 34
        },
        "id": "6xmZoPu2BVFg",
        "outputId": "82ac9a74-ea25-4d72-c5fe-e820e8f7c6cb"
      },
      "execution_count": 69,
      "outputs": [
        {
          "output_type": "display_data",
          "data": {
            "text/plain": [
              "<Figure size 432x288 with 0 Axes>"
            ]
          },
          "metadata": {}
        }
      ]
    },
    {
      "cell_type": "code",
      "source": [
        "fig1 = sns.displot(data = tweets_df[~(tweets_df['polarity']==0)], x=\"polarity\",\n",
        "                   col=\"Candidate\",\n",
        "                   col_wrap= 2, \n",
        "                   hue=\"Candidate\", \n",
        "                   legend=False, \n",
        "                   palette= pal,\n",
        "                   kde = True,\n",
        "                   bins =30)\n",
        "fig1.fig.suptitle(\"Distribution of Sentiment scores(polarity)\",fontsize =7 )\n",
        "\n",
        "plt.tight_layout()\n",
        "plt.show()"
      ],
      "metadata": {
        "colab": {
          "base_uri": "https://localhost:8080/",
          "height": 725
        },
        "id": "okH1Vd3YxtZj",
        "outputId": "9b2b0fb0-675a-4347-f015-e3347dbc0541"
      },
      "execution_count": 37,
      "outputs": [
        {
          "output_type": "display_data",
          "data": {
            "text/plain": [
              "<Figure size 720x720 with 3 Axes>"
            ],
            "image/png": "[encoded data removed]"
          },
          "metadata": {}
        }
      ]
    },
    {
      "cell_type": "code",
      "source": [
        "# Saving the figure.\n",
        "plt.savefig(\"Polarity.jpg\")"
      ],
      "metadata": {
        "colab": {
          "base_uri": "https://localhost:8080/",
          "height": 34
        },
        "id": "2CsOe7Czszy0",
        "outputId": "08012204-e7ce-4cfa-fc30-615d24a9e2d8"
      },
      "execution_count": 68,
      "outputs": [
        {
          "output_type": "display_data",
          "data": {
            "text/plain": [
              "<Figure size 432x288 with 0 Axes>"
            ]
          },
          "metadata": {}
        }
      ]
    },
    {
      "cell_type": "markdown",
      "source": [
        "#Hashtag Analysis"
      ],
      "metadata": {
        "id": "FFhQRTn4zR3z"
      }
    },
    {
      "cell_type": "code",
      "source": [
        "tweets_df[\"date\"] = pd.to_datetime(tweets_df[\"date\"])\n",
        "\n",
        "#set index = date so as to create rolling mean \n",
        "tweets_df = tweets_df.sort_values(\"date\").set_index(\"date\")"
      ],
      "metadata": {
        "id": "PbD4i8Aoy71O"
      },
      "execution_count": 38,
      "outputs": []
    },
    {
      "cell_type": "code",
      "source": [
        "#Create candidates Dataframes \n",
        "PeterObi_df = tweets_df[(tweets_df.Candidate==\"PeterObi\")]\n",
        "Atiku_df = tweets_df[(tweets_df.Candidate==\"AtikuAbubakar\")]\n",
        "Tinubu_df = tweets_df[(tweets_df.Candidate==\"BolaTinubu\")]"
      ],
      "metadata": {
        "id": "HUOE2-Bazh1e"
      },
      "execution_count": 39,
      "outputs": []
    },
    {
      "cell_type": "code",
      "source": [
        "#get all hashtags as list\n",
        "def hashlist(df):\n",
        "    hashlist = []\n",
        "    for i in df['hashtags']:\n",
        "        #use ast.literal if you are importing CSV files otherwise just use 'i'\n",
        "        hashlist.extend(ast.literal_eval(i))\n",
        "    return hashlist"
      ],
      "metadata": {
        "id": "lS2CySZb0PVQ"
      },
      "execution_count": 40,
      "outputs": []
    },
    {
      "cell_type": "code",
      "source": [
        "#Create hashtag dataframes\n",
        "hash_PeterObi= pd.DataFrame(Counter(hashlist(PeterObi_df)).items()).sort_values(1,ascending=False)\n",
        "hash_Atiku= pd.DataFrame(Counter(hashlist(Atiku_df)).items()).sort_values(1,ascending=False)\n",
        "hash_Tinubu= pd.DataFrame(Counter(hashlist(Tinubu_df)).items()).sort_values(1,ascending=False)"
      ],
      "metadata": {
        "id": "J1vVBoZV0gpg"
      },
      "execution_count": null,
      "outputs": []
    },
    {
      "cell_type": "markdown",
      "source": [
        "#Wordcloud"
      ],
      "metadata": {
        "id": "Lkt5JOsU1ZLR"
      }
    },
    {
      "cell_type": "code",
      "source": [
        "# Load NLTK library\n",
        "#Langauage processing libraries\n",
        "import nltk\n",
        "\n",
        "# Download the stopwords to the nltk library\n",
        "nltk.download('stopwords')\n",
        "\n",
        "# Load the stopwords\n",
        "from nltk.corpus import stopwords"
      ],
      "metadata": {
        "colab": {
          "base_uri": "https://localhost:8080/"
        },
        "id": "dXRqHcccCErc",
        "outputId": "0cad8cbe-698d-4edc-da31-1510962504ce"
      },
      "execution_count": 71,
      "outputs": [
        {
          "output_type": "stream",
          "name": "stderr",
          "text": [
            "[nltk_data] Downloading package stopwords to /root/nltk_data...\n",
            "[nltk_data]   Unzipping corpora/stopwords.zip.\n"
          ]
        }
      ]
    },
    {
      "cell_type": "code",
      "source": [
        "# get the list of all stopwords from the library (Language - 'en')\n",
        "stop = stopwords.words('english')\n",
        "print(stop)"
      ],
      "metadata": {
        "colab": {
          "base_uri": "https://localhost:8080/"
        },
        "id": "L68K5KDACOAj",
        "outputId": "407600b1-98e0-4424-d984-cb04bb612323"
      },
      "execution_count": 72,
      "outputs": [
        {
          "output_type": "stream",
          "name": "stdout",
          "text": [
            "['i', 'me', 'my', 'myself', 'we', 'our', 'ours', 'ourselves', 'you', \"you're\", \"you've\", \"you'll\", \"you'd\", 'your', 'yours', 'yourself', 'yourselves', 'he', 'him', 'his', 'himself', 'she', \"she's\", 'her', 'hers', 'herself', 'it', \"it's\", 'its', 'itself', 'they', 'them', 'their', 'theirs', 'themselves', 'what', 'which', 'who', 'whom', 'this', 'that', \"that'll\", 'these', 'those', 'am', 'is', 'are', 'was', 'were', 'be', 'been', 'being', 'have', 'has', 'had', 'having', 'do', 'does', 'did', 'doing', 'a', 'an', 'the', 'and', 'but', 'if', 'or', 'because', 'as', 'until', 'while', 'of', 'at', 'by', 'for', 'with', 'about', 'against', 'between', 'into', 'through', 'during', 'before', 'after', 'above', 'below', 'to', 'from', 'up', 'down', 'in', 'out', 'on', 'off', 'over', 'under', 'again', 'further', 'then', 'once', 'here', 'there', 'when', 'where', 'why', 'how', 'all', 'any', 'both', 'each', 'few', 'more', 'most', 'other', 'some', 'such', 'no', 'nor', 'not', 'only', 'own', 'same', 'so', 'than', 'too', 'very', 's', 't', 'can', 'will', 'just', 'don', \"don't\", 'should', \"should've\", 'now', 'd', 'll', 'm', 'o', 're', 've', 'y', 'ain', 'aren', \"aren't\", 'couldn', \"couldn't\", 'didn', \"didn't\", 'doesn', \"doesn't\", 'hadn', \"hadn't\", 'hasn', \"hasn't\", 'haven', \"haven't\", 'isn', \"isn't\", 'ma', 'mightn', \"mightn't\", 'mustn', \"mustn't\", 'needn', \"needn't\", 'shan', \"shan't\", 'shouldn', \"shouldn't\", 'wasn', \"wasn't\", 'weren', \"weren't\", 'won', \"won't\", 'wouldn', \"wouldn't\"]\n"
          ]
        }
      ]
    },
    {
      "cell_type": "code",
      "source": [
        "# Removing the words in 'stop' list\n",
        "def remove_stop_words(tweet):\n",
        "  tokens = tweet.split()\n",
        "  stop_removed_tokens = [t for t in tokens if t not in stop]\n",
        "  convert_to_string = \" \".join(stop_removed_tokens)\n",
        "  return convert_to_string\n",
        "  \n",
        "tweets_df['tweet'] = tweets_df['tweet'].apply(remove_stop_words)\n",
        "tweets_df.tail(5)"
      ],
      "metadata": {
        "colab": {
          "base_uri": "https://localhost:8080/",
          "height": 557
        },
        "id": "YY_NhuFgDVU-",
        "outputId": "3fd60161-025c-45a3-ca75-76e30c224a26"
      },
      "execution_count": 75,
      "outputs": [
        {
          "output_type": "execute_result",
          "data": {
            "text/plain": [
              "                                      id      conversation_id    created_at  \\\n",
              "date                                                                          \n",
              "2022-11-29 23:59:12  1597742003680575488  1597486726104363008  1.669766e+12   \n",
              "2022-11-29 23:59:20  1597742034596642816  1597742034596642816  1.669766e+12   \n",
              "2022-11-29 23:59:31  1597742080788680705  1597742080788680705  1.669766e+12   \n",
              "2022-11-29 23:59:41  1597742122480046080  1597270737118957571  1.669766e+12   \n",
              "2022-11-29 23:59:52  1597742167493324800  1597497317208526849  1.669766e+12   \n",
              "\n",
              "                    timezone place  \\\n",
              "date                                 \n",
              "2022-11-29 23:59:12    +0000         \n",
              "2022-11-29 23:59:20    +0000         \n",
              "2022-11-29 23:59:31    +0000         \n",
              "2022-11-29 23:59:41    +0000         \n",
              "2022-11-29 23:59:52    +0000         \n",
              "\n",
              "                                                                 tweet  \\\n",
              "date                                                                     \n",
              "2022-11-29 23:59:12  @alabiopeyemiola @officialabat leader looks ti...   \n",
              "2022-11-29 23:59:20  ever feel useless, remember there’s somebody d...   \n",
              "2022-11-29 23:59:31  making unbelievable progress 🙌 thanks god, ota...   \n",
              "2022-11-29 23:59:41                  @antixenophobian thank god gun. 😳   \n",
              "2022-11-29 23:59:52  @agoyi44dogzy @oluwatonianu @_mustapher_ @then...   \n",
              "\n",
              "                    language hashtags cashtags              user_id  ...  \\\n",
              "date                                                                 ...   \n",
              "2022-11-29 23:59:12       en       []       []  1382809564865761280  ...   \n",
              "2022-11-29 23:59:20       en       []       []  1408376971743088646  ...   \n",
              "2022-11-29 23:59:31       en       []       []           1461835592  ...   \n",
              "2022-11-29 23:59:41       en       []       []  1387751095037005827  ...   \n",
              "2022-11-29 23:59:52       en       []       []            181527564  ...   \n",
              "\n",
              "                                                              reply_to  \\\n",
              "date                                                                     \n",
              "2022-11-29 23:59:12  [{'screen_name': 'alabiopeyemiola', 'name': 'A...   \n",
              "2022-11-29 23:59:20                                                 []   \n",
              "2022-11-29 23:59:31                                                 []   \n",
              "2022-11-29 23:59:41  [{'screen_name': 'AntiXenophobian', 'name': 'A...   \n",
              "2022-11-29 23:59:52  [{'screen_name': 'agoyi44dogzy', 'name': 'Abdu...   \n",
              "\n",
              "                    retweet_date translate  trans_src trans_dest    Candidate  \\\n",
              "date                                                                            \n",
              "2022-11-29 23:59:12                                                 Peter Obi   \n",
              "2022-11-29 23:59:20                                               Bola Tinubu   \n",
              "2022-11-29 23:59:31                                                 Peter Obi   \n",
              "2022-11-29 23:59:41                                                 Peter Obi   \n",
              "2022-11-29 23:59:52                                                 Peter Obi   \n",
              "\n",
              "                                                         cleaned_tweet  \\\n",
              "date                                                                     \n",
              "2022-11-29 23:59:12               your leader looks tired and he limps   \n",
              "2022-11-29 23:59:20  when ever you feel useless just remember there...   \n",
              "2022-11-29 23:59:31  we are making unbelievable progress  thanks be...   \n",
              "2022-11-29 23:59:41                            thank god she has a gun   \n",
              "2022-11-29 23:59:52  he invested so much in these sectors ive been ...   \n",
              "\n",
              "                     polarity  subjectivity Sentiment  \n",
              "date                                                   \n",
              "2022-11-29 23:59:12 -0.400000      0.700000  Negative  \n",
              "2022-11-29 23:59:20 -0.250000      0.216667  Negative  \n",
              "2022-11-29 23:59:31  0.112500      0.675000  Positive  \n",
              "2022-11-29 23:59:41  0.000000      0.000000   Neutral  \n",
              "2022-11-29 23:59:52  0.004167      0.566667  Positive  \n",
              "\n",
              "[5 rows x 42 columns]"
            ],
            "text/html": [
              "\n",
              "  <div id=\"df-5f07a3db-1ba8-4d3f-9304-1773b664d851\">\n",
              "    <div class=\"colab-df-container\">\n",
              "      <div>\n",
              "<style scoped>\n",
              "    .dataframe tbody tr th:only-of-type {\n",
              "        vertical-align: middle;\n",
              "    }\n",
              "\n",
              "    .dataframe tbody tr th {\n",
              "        vertical-align: top;\n",
              "    }\n",
              "\n",
              "    .dataframe thead th {\n",
              "        text-align: right;\n",
              "    }\n",
              "</style>\n",
              "<table border=\"1\" class=\"dataframe\">\n",
              "  <thead>\n",
              "    <tr style=\"text-align: right;\">\n",
              "      <th></th>\n",
              "      <th>id</th>\n",
              "      <th>conversation_id</th>\n",
              "      <th>created_at</th>\n",
              "      <th>timezone</th>\n",
              "      <th>place</th>\n",
              "      <th>tweet</th>\n",
              "      <th>language</th>\n",
              "      <th>hashtags</th>\n",
              "      <th>cashtags</th>\n",
              "      <th>user_id</th>\n",
              "      <th>...</th>\n",
              "      <th>reply_to</th>\n",
              "      <th>retweet_date</th>\n",
              "      <th>translate</th>\n",
              "      <th>trans_src</th>\n",
              "      <th>trans_dest</th>\n",
              "      <th>Candidate</th>\n",
              "      <th>cleaned_tweet</th>\n",
              "      <th>polarity</th>\n",
              "      <th>subjectivity</th>\n",
              "      <th>Sentiment</th>\n",
              "    </tr>\n",
              "    <tr>\n",
              "      <th>date</th>\n",
              "      <th></th>\n",
              "      <th></th>\n",
              "      <th></th>\n",
              "      <th></th>\n",
              "      <th></th>\n",
              "      <th></th>\n",
              "      <th></th>\n",
              "      <th></th>\n",
              "      <th></th>\n",
              "      <th></th>\n",
              "      <th></th>\n",
              "      <th></th>\n",
              "      <th></th>\n",
              "      <th></th>\n",
              "      <th></th>\n",
              "      <th></th>\n",
              "      <th></th>\n",
              "      <th></th>\n",
              "      <th></th>\n",
              "      <th></th>\n",
              "      <th></th>\n",
              "    </tr>\n",
              "  </thead>\n",
              "  <tbody>\n",
              "    <tr>\n",
              "      <th>2022-11-29 23:59:12</th>\n",
              "      <td>1597742003680575488</td>\n",
              "      <td>1597486726104363008</td>\n",
              "      <td>1.669766e+12</td>\n",
              "      <td>+0000</td>\n",
              "      <td></td>\n",
              "      <td>@alabiopeyemiola @officialabat leader looks ti...</td>\n",
              "      <td>en</td>\n",
              "      <td>[]</td>\n",
              "      <td>[]</td>\n",
              "      <td>1382809564865761280</td>\n",
              "      <td>...</td>\n",
              "      <td>[{'screen_name': 'alabiopeyemiola', 'name': 'A...</td>\n",
              "      <td></td>\n",
              "      <td></td>\n",
              "      <td></td>\n",
              "      <td></td>\n",
              "      <td>Peter Obi</td>\n",
              "      <td>your leader looks tired and he limps</td>\n",
              "      <td>-0.400000</td>\n",
              "      <td>0.700000</td>\n",
              "      <td>Negative</td>\n",
              "    </tr>\n",
              "    <tr>\n",
              "      <th>2022-11-29 23:59:20</th>\n",
              "      <td>1597742034596642816</td>\n",
              "      <td>1597742034596642816</td>\n",
              "      <td>1.669766e+12</td>\n",
              "      <td>+0000</td>\n",
              "      <td></td>\n",
              "      <td>ever feel useless, remember there’s somebody d...</td>\n",
              "      <td>en</td>\n",
              "      <td>[]</td>\n",
              "      <td>[]</td>\n",
              "      <td>1408376971743088646</td>\n",
              "      <td>...</td>\n",
              "      <td>[]</td>\n",
              "      <td></td>\n",
              "      <td></td>\n",
              "      <td></td>\n",
              "      <td></td>\n",
              "      <td>Bola Tinubu</td>\n",
              "      <td>when ever you feel useless just remember there...</td>\n",
              "      <td>-0.250000</td>\n",
              "      <td>0.216667</td>\n",
              "      <td>Negative</td>\n",
              "    </tr>\n",
              "    <tr>\n",
              "      <th>2022-11-29 23:59:31</th>\n",
              "      <td>1597742080788680705</td>\n",
              "      <td>1597742080788680705</td>\n",
              "      <td>1.669766e+12</td>\n",
              "      <td>+0000</td>\n",
              "      <td></td>\n",
              "      <td>making unbelievable progress 🙌 thanks god, ota...</td>\n",
              "      <td>en</td>\n",
              "      <td>[]</td>\n",
              "      <td>[]</td>\n",
              "      <td>1461835592</td>\n",
              "      <td>...</td>\n",
              "      <td>[]</td>\n",
              "      <td></td>\n",
              "      <td></td>\n",
              "      <td></td>\n",
              "      <td></td>\n",
              "      <td>Peter Obi</td>\n",
              "      <td>we are making unbelievable progress  thanks be...</td>\n",
              "      <td>0.112500</td>\n",
              "      <td>0.675000</td>\n",
              "      <td>Positive</td>\n",
              "    </tr>\n",
              "    <tr>\n",
              "      <th>2022-11-29 23:59:41</th>\n",
              "      <td>1597742122480046080</td>\n",
              "      <td>1597270737118957571</td>\n",
              "      <td>1.669766e+12</td>\n",
              "      <td>+0000</td>\n",
              "      <td></td>\n",
              "      <td>@antixenophobian thank god gun. 😳</td>\n",
              "      <td>en</td>\n",
              "      <td>[]</td>\n",
              "      <td>[]</td>\n",
              "      <td>1387751095037005827</td>\n",
              "      <td>...</td>\n",
              "      <td>[{'screen_name': 'AntiXenophobian', 'name': 'A...</td>\n",
              "      <td></td>\n",
              "      <td></td>\n",
              "      <td></td>\n",
              "      <td></td>\n",
              "      <td>Peter Obi</td>\n",
              "      <td>thank god she has a gun</td>\n",
              "      <td>0.000000</td>\n",
              "      <td>0.000000</td>\n",
              "      <td>Neutral</td>\n",
              "    </tr>\n",
              "    <tr>\n",
              "      <th>2022-11-29 23:59:52</th>\n",
              "      <td>1597742167493324800</td>\n",
              "      <td>1597497317208526849</td>\n",
              "      <td>1.669766e+12</td>\n",
              "      <td>+0000</td>\n",
              "      <td></td>\n",
              "      <td>@agoyi44dogzy @oluwatonianu @_mustapher_ @then...</td>\n",
              "      <td>en</td>\n",
              "      <td>[]</td>\n",
              "      <td>[]</td>\n",
              "      <td>181527564</td>\n",
              "      <td>...</td>\n",
              "      <td>[{'screen_name': 'agoyi44dogzy', 'name': 'Abdu...</td>\n",
              "      <td></td>\n",
              "      <td></td>\n",
              "      <td></td>\n",
              "      <td></td>\n",
              "      <td>Peter Obi</td>\n",
              "      <td>he invested so much in these sectors ive been ...</td>\n",
              "      <td>0.004167</td>\n",
              "      <td>0.566667</td>\n",
              "      <td>Positive</td>\n",
              "    </tr>\n",
              "  </tbody>\n",
              "</table>\n",
              "<p>5 rows × 42 columns</p>\n",
              "</div>\n",
              "      <button class=\"colab-df-convert\" onclick=\"convertToInteractive('df-5f07a3db-1ba8-4d3f-9304-1773b664d851')\"\n",
              "              title=\"Convert this dataframe to an interactive table.\"\n",
              "              style=\"display:none;\">\n",
              "        \n",
              "  <svg xmlns=\"http://www.w3.org/2000/svg\" height=\"24px\"viewBox=\"0 0 24 24\"\n",
              "       width=\"24px\">\n",
              "    <path d=\"M0 0h24v24H0V0z\" fill=\"none\"/>\n",
              "    <path d=\"M18.56 5.44l.94 2.06.94-2.06 2.06-.94-2.06-.94-.94-2.06-.94 2.06-2.06.94zm-11 1L8.5 8.5l.94-2.06 2.06-.94-2.06-.94L8.5 2.5l-.94 2.06-2.06.94zm10 10l.94 2.06.94-2.06 2.06-.94-2.06-.94-.94-2.06-.94 2.06-2.06.94z\"/><path d=\"M17.41 7.96l-1.37-1.37c-.4-.4-.92-.59-1.43-.59-.52 0-1.04.2-1.43.59L10.3 9.45l-7.72 7.72c-.78.78-.78 2.05 0 2.83L4 21.41c.39.39.9.59 1.41.59.51 0 1.02-.2 1.41-.59l7.78-7.78 2.81-2.81c.8-.78.8-2.07 0-2.86zM5.41 20L4 18.59l7.72-7.72 1.47 1.35L5.41 20z\"/>\n",
              "  </svg>\n",
              "      </button>\n",
              "      \n",
              "  <style>\n",
              "    .colab-df-container {\n",
              "      display:flex;\n",
              "      flex-wrap:wrap;\n",
              "      gap: 12px;\n",
              "    }\n",
              "\n",
              "    .colab-df-convert {\n",
              "      background-color: #E8F0FE;\n",
              "      border: none;\n",
              "      border-radius: 50%;\n",
              "      cursor: pointer;\n",
              "      display: none;\n",
              "      fill: #1967D2;\n",
              "      height: 32px;\n",
              "      padding: 0 0 0 0;\n",
              "      width: 32px;\n",
              "    }\n",
              "\n",
              "    .colab-df-convert:hover {\n",
              "      background-color: #E2EBFA;\n",
              "      box-shadow: 0px 1px 2px rgba(60, 64, 67, 0.3), 0px 1px 3px 1px rgba(60, 64, 67, 0.15);\n",
              "      fill: #174EA6;\n",
              "    }\n",
              "\n",
              "    [theme=dark] .colab-df-convert {\n",
              "      background-color: #3B4455;\n",
              "      fill: #D2E3FC;\n",
              "    }\n",
              "\n",
              "    [theme=dark] .colab-df-convert:hover {\n",
              "      background-color: #434B5C;\n",
              "      box-shadow: 0px 1px 3px 1px rgba(0, 0, 0, 0.15);\n",
              "      filter: drop-shadow(0px 1px 2px rgba(0, 0, 0, 0.3));\n",
              "      fill: #FFFFFF;\n",
              "    }\n",
              "  </style>\n",
              "\n",
              "      <script>\n",
              "        const buttonEl =\n",
              "          document.querySelector('#df-5f07a3db-1ba8-4d3f-9304-1773b664d851 button.colab-df-convert');\n",
              "        buttonEl.style.display =\n",
              "          google.colab.kernel.accessAllowed ? 'block' : 'none';\n",
              "\n",
              "        async function convertToInteractive(key) {\n",
              "          const element = document.querySelector('#df-5f07a3db-1ba8-4d3f-9304-1773b664d851');\n",
              "          const dataTable =\n",
              "            await google.colab.kernel.invokeFunction('convertToInteractive',\n",
              "                                                     [key], {});\n",
              "          if (!dataTable) return;\n",
              "\n",
              "          const docLinkHtml = 'Like what you see? Visit the ' +\n",
              "            '<a target=\"_blank\" href=https://colab.research.google.com/notebooks/data_table.ipynb>data table notebook</a>'\n",
              "            + ' to learn more about interactive tables.';\n",
              "          element.innerHTML = '';\n",
              "          dataTable['output_type'] = 'display_data';\n",
              "          await google.colab.output.renderOutput(dataTable, element);\n",
              "          const docLink = document.createElement('div');\n",
              "          docLink.innerHTML = docLinkHtml;\n",
              "          element.appendChild(docLink);\n",
              "        }\n",
              "      </script>\n",
              "    </div>\n",
              "  </div>\n",
              "  "
            ]
          },
          "metadata": {},
          "execution_count": 75
        }
      ]
    },
    {
      "cell_type": "code",
      "source": [
        "tweetString_a = \" \".join(list(PeterObi_df[\"cleaned_tweet\"])).lower()\n",
        "tweetString_n = \" \".join(list(Atiku_df[\"cleaned_tweet\"])).lower()\n",
        "tweetString_s = \" \".join(list(Tinubu_df[\"cleaned_tweet\"])).lower()"
      ],
      "metadata": {
        "id": "h7m2FQp-1cqo"
      },
      "execution_count": 76,
      "outputs": []
    },
    {
      "cell_type": "code",
      "source": [
        "# Creating a word frequency series\n",
        "#(This is a **pandas** series)\n",
        "word_frequency = pd.Series(' '.join(tweets_df['tweet']).split()).value_counts()"
      ],
      "metadata": {
        "id": "Re2pV2497mTM"
      },
      "execution_count": 77,
      "outputs": []
    },
    {
      "cell_type": "code",
      "source": [
        "# Display top 10 words\n",
        "word_frequency[:10]"
      ],
      "metadata": {
        "colab": {
          "base_uri": "https://localhost:8080/"
        },
        "id": "iNS8EHeQ_6-e",
        "outputId": "929e1b95-f565-4779-9fcc-01c365063918"
      },
      "execution_count": 79,
      "outputs": [
        {
          "output_type": "execute_result",
          "data": {
            "text/plain": [
              "tinubu       1802\n",
              "@peterobi    1248\n",
              "atiku        1147\n",
              "obi          1086\n",
              "peter         906\n",
              "@fkeyamo      520\n",
              "@atiku        477\n",
              "vote          449\n",
              "debate        387\n",
              "go            376\n",
              "dtype: int64"
            ]
          },
          "metadata": {},
          "execution_count": 79
        }
      ]
    },
    {
      "cell_type": "code",
      "source": [
        "# Visualizing the top 10 word counts \n",
        "\n",
        "word_count  = word_frequency\n",
        "word_count = word_count[:10,]\n",
        "plt.figure(figsize=(10,5))\n",
        "sns.barplot(word_count.index, word_count.values, alpha=0.8)\n",
        "plt.title('Top 10 Words in Tweets')\n",
        "plt.ylabel('Number of Occurrences', fontsize=12)\n",
        "plt.xlabel('Word', fontsize=12)\n",
        "plt.show()"
      ],
      "metadata": {
        "colab": {
          "base_uri": "https://localhost:8080/",
          "height": 444
        },
        "id": "ce1f0efXfbAE",
        "outputId": "3f10b863-d046-449c-f82a-5a3859b25a01"
      },
      "execution_count": 83,
      "outputs": [
        {
          "output_type": "stream",
          "name": "stderr",
          "text": [
            "/usr/local/lib/python3.8/dist-packages/seaborn/_decorators.py:36: FutureWarning:\n",
            "\n",
            "Pass the following variables as keyword args: x, y. From version 0.12, the only valid positional argument will be `data`, and passing other arguments without an explicit keyword will result in an error or misinterpretation.\n",
            "\n"
          ]
        },
        {
          "output_type": "display_data",
          "data": {
            "text/plain": [
              "<Figure size 720x360 with 1 Axes>"
            ],
            "image/png": "[encoded data removed]"
          },
          "metadata": {}
        }
      ]
    },
    {
      "cell_type": "code",
      "source": [
        "from PIL import Image\n",
        "from wordcloud import WordCloud"
      ],
      "metadata": {
        "id": "LbLXaR0MAI1b"
      },
      "execution_count": 80,
      "outputs": []
    },
    {
      "cell_type": "code",
      "source": [
        "#Visualizing text corpus\n",
        "corpus = list(tweets_df['tweet'])\n",
        "wordcloud = WordCloud(background_color='white', max_words=200, max_font_size=70, random_state=42, width = 700, height = 500).generate(str(corpus))\n",
        "# WordCloud(collocations = False,max_words=200, background_color = 'white', width = 7000, height = 5000).generate(tweets_string)\n",
        "\n",
        "\n",
        "fig = plt.figure(1)\n",
        "plt.imshow(wordcloud)\n",
        "plt.axis('off')\n",
        "plt.show()"
      ],
      "metadata": {
        "colab": {
          "base_uri": "https://localhost:8080/",
          "height": 248
        },
        "id": "RDJ3oR7KAMZv",
        "outputId": "9baaf923-03a3-4f29-c3c2-1c59861f5c68"
      },
      "execution_count": 81,
      "outputs": [
        {
          "output_type": "display_data",
          "data": {
            "text/plain": [
              "<Figure size 432x288 with 1 Axes>"
            ],
            "image/png": "[encoded data removed]"
          },
          "metadata": {}
        }
      ]
    },
    {
      "cell_type": "code",
      "source": [
        "#saving the word cloud image\n",
        "wordcloud.to_file(\"wordcloud.png\")"
      ],
      "metadata": {
        "colab": {
          "base_uri": "https://localhost:8080/"
        },
        "id": "Fbue2y-EBhwT",
        "outputId": "5f6f2fdd-7ca7-410b-dbd4-cdef641f9d79"
      },
      "execution_count": 82,
      "outputs": [
        {
          "output_type": "execute_result",
          "data": {
            "text/plain": [
              "<wordcloud.wordcloud.WordCloud at 0x7f6b5d37f3a0>"
            ]
          },
          "metadata": {},
          "execution_count": 82
        }
      ]
    },
    {
      "cell_type": "code",
      "source": [
        "# Overall mean sentiment by candidate\n",
        "plt.figure(figsize=(10,5))\n",
        "plt.title(\"Overall mean Sentiment by Candidate\")\n",
        "sns.barplot(data = tweets_df, x= \"Candidate\", y = \"polarity\", palette=pal, ci=False)\n",
        "plt.show()"
      ],
      "metadata": {
        "colab": {
          "base_uri": "https://localhost:8080/",
          "height": 355
        },
        "id": "NSacbQmXtvPv",
        "outputId": "ec5480e3-030a-4fa2-9261-e3e310578039"
      },
      "execution_count": 57,
      "outputs": [
        {
          "output_type": "display_data",
          "data": {
            "text/plain": [
              "<Figure size 720x360 with 1 Axes>"
            ],
            "image/png": "[encoded data removed]"
          },
          "metadata": {}
        }
      ]
    },
    {
      "cell_type": "markdown",
      "source": [
        "#Rolling point"
      ],
      "metadata": {
        "id": "2vqVlZey1NOB"
      }
    },
    {
      "cell_type": "code",
      "source": [
        "#Std Bank\n",
        "PeterObi_df['mean'] = PeterObi_df['polarity'].expanding().mean()\n",
        "PeterObi_df['rolling'] = PeterObi_df['polarity'].rolling(\"7d\").mean()\n",
        "\n",
        "#FNB\n",
        "Tinubu_df['mean'] = Tinubu_df['polarity'].expanding().mean()\n",
        "Tinubu_df['rolling'] = Tinubu_df['polarity'].rolling(\"7d\").mean()\n",
        "\n",
        "#Nebank\n",
        "Atiku_df['mean'] = Atiku_df['polarity'].expanding().mean()\n",
        "Atiku_df['rolling'] = Atiku_df['polarity'].rolling(\"7d\").mean()"
      ],
      "metadata": {
        "id": "FNFoKdMy6PbG"
      },
      "execution_count": 59,
      "outputs": []
    },
    {
      "cell_type": "code",
      "source": [
        "# functions to create our graphs\n",
        "def trace_rolling_creation(df,gname, glinecolor):\n",
        "    return fig.add_trace(\n",
        "        go.Scatter(\n",
        "            x= df.index, \n",
        "            y=df[\"rolling\"], \n",
        "            name=gname,  \n",
        "            mode='lines',\n",
        "            line_color=glinecolor),\n",
        "        secondary_y=False\n",
        ")\n",
        "\n",
        "def trace_count_creation(df,gname, glinecolor):\n",
        "    return fig.add_trace(\n",
        "        go.Scatter(\n",
        "            x= df.index, \n",
        "            y=df[\"polarity\"].rolling('7d').count(), \n",
        "            name=gname,  \n",
        "            fill='tozeroy',line_color=glinecolor), \n",
        "        secondary_y=True\n",
        ")"
      ],
      "metadata": {
        "id": "i8XNfShV1FRm"
      },
      "execution_count": 60,
      "outputs": []
    },
    {
      "cell_type": "code",
      "source": [
        "# Create figure with secondary y-axis\n",
        "fig = make_subplots(specs=[[{\"secondary_y\": True}]])\n",
        "\n",
        "# Add traces\n",
        "trace_rolling_creation(Tinubu_df, \"Tinubu\", '#DC0E1A')\n",
        "trace_rolling_creation(Atiku_df, \"Atiku\", '#078a4d')\n",
        "trace_rolling_creation(PeterObi_df, \"PeterObi\", '#054db3')\n",
        "\n",
        "trace_count_creation(Tinubu_df, \"Tinubu\", 'rgb(220, 14, 26)')\n",
        "trace_count_creation(Atiku_df, \"Atiku\", 'rgb(7, 138, 77)')\n",
        "trace_count_creation(PeterObi_df, \"PeterObi\", 'rgb(5, 77, 179)')\n",
        "\n",
        "# set figure layout\n",
        "fig.update_layout(\n",
        "    template = \"seaborn\",\n",
        "    title_text=\"Rolling 7d Sentiment vs Count of tweets\",\n",
        "    legend_title=\"Candidate\",\n",
        "    font=dict(size=12),\n",
        "    autosize=False,\n",
        "    width=1000,\n",
        "    height=600,\n",
        "    margin=dict (l=10,r=10,b=50,t=50, pad=2)\n",
        ")\n",
        "\n",
        "# Set x-axis title\n",
        "fig.update_xaxes(title_text=\"Date\")\n",
        "\n",
        "# Set y-axes titles\n",
        "fig.update_yaxes(title_text=\"Rolling\",range = [-0.1,0.4], secondary_y=False)\n",
        "fig.update_yaxes(title_text=\"Count\",range = [0,40000], secondary_y=True)\n",
        "\n",
        "fig.show()"
      ],
      "metadata": {
        "id": "iI5Bix5u7OEu"
      },
      "execution_count": null,
      "outputs": []
    },
    {
      "cell_type": "markdown",
      "source": [
        "#Summary\n",
        "\n",
        "This project is based on the tweets from 2022-01-01 to 2022-11-30 in real time\n",
        "\n",
        "We use Twint to scrape the data from twitter which amounted to (6026, 39) then went on to clean and make necessary adjustments on the dataframe.\n",
        "\n",
        "The Language was analyzed and restricted to just English whilst droping the other undefined languages\n",
        "\n",
        "The sentimental analysis here shows that Bola tinubu has more on the negative response compared to the other candidates followed by Atiku then Peterobi. Peter obi has more neutral tweets than the other candidates as well as more Positive tweets which is closly follwed by Atiku.\n",
        "\n",
        "It is then safe to say that Peter Obi is most talked about on twitter.\n",
        "\n",
        "An Hashtag analysis was carried out to show the most trending hashtags of each candidates.\n",
        "\n",
        "W also ran a word frequency to see the most mentioned word in the tweets and visualised the top ten having Tinubu leading the chart followed by Peter Obi and then Atiku. You can see that Peter obi is still showing with other associated terms. these words were then displayed in the wordcloud.\n",
        "\n",
        "Finally, we got the overall sentiment of the tweets for each candidate.\n",
        "\n",
        "In conclusion, please note that the data is based on what the system classify as sentimental as per the wordings in the tweets.\n",
        "\n"
      ],
      "metadata": {
        "id": "raliHtigT0vy"
      }
    }
  ]
}