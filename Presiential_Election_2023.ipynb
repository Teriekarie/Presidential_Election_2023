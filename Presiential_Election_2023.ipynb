{
 "cells": [
  {
   "cell_type": "markdown",
   "id": "5a289baa",
   "metadata": {},
   "source": [
    "# Installing the Packages"
   ]
  },
  {
   "cell_type": "code",
   "execution_count": 1,
   "id": "5860b5c2",
   "metadata": {},
   "outputs": [
    {
     "name": "stdout",
     "output_type": "stream",
     "text": [
      "Collecting snscrape\n",
      "  Downloading snscrape-0.4.3.20220106-py3-none-any.whl (59 kB)\n",
      "Requirement already satisfied: filelock in c:\\users\\visacheck admin\\anaconda3\\lib\\site-packages (from snscrape) (3.6.0)\n",
      "Requirement already satisfied: requests[socks] in c:\\users\\visacheck admin\\anaconda3\\lib\\site-packages (from snscrape) (2.27.1)\n",
      "Requirement already satisfied: lxml in c:\\users\\visacheck admin\\anaconda3\\lib\\site-packages (from snscrape) (4.8.0)\n",
      "Requirement already satisfied: beautifulsoup4 in c:\\users\\visacheck admin\\anaconda3\\lib\\site-packages (from snscrape) (4.11.1)\n",
      "Requirement already satisfied: soupsieve>1.2 in c:\\users\\visacheck admin\\anaconda3\\lib\\site-packages (from beautifulsoup4->snscrape) (2.3.1)\n",
      "Requirement already satisfied: urllib3<1.27,>=1.21.1 in c:\\users\\visacheck admin\\anaconda3\\lib\\site-packages (from requests[socks]->snscrape) (1.26.9)\n",
      "Requirement already satisfied: certifi>=2017.4.17 in c:\\users\\visacheck admin\\anaconda3\\lib\\site-packages (from requests[socks]->snscrape) (2021.10.8)\n",
      "Requirement already satisfied: charset-normalizer~=2.0.0 in c:\\users\\visacheck admin\\anaconda3\\lib\\site-packages (from requests[socks]->snscrape) (2.0.4)\n",
      "Requirement already satisfied: idna<4,>=2.5 in c:\\users\\visacheck admin\\anaconda3\\lib\\site-packages (from requests[socks]->snscrape) (3.3)\n",
      "Requirement already satisfied: PySocks!=1.5.7,>=1.5.6 in c:\\users\\visacheck admin\\anaconda3\\lib\\site-packages (from requests[socks]->snscrape) (1.7.1)\n",
      "Installing collected packages: snscrape\n",
      "Successfully installed snscrape-0.4.3.20220106\n"
     ]
    }
   ],
   "source": [
    "!pip install snscrape"
   ]
  },
  {
   "cell_type": "code",
   "execution_count": 3,
   "id": "f5b3e3c0",
   "metadata": {},
   "outputs": [
    {
     "name": "stdout",
     "output_type": "stream",
     "text": [
      "Collecting wordcloud\n",
      "  Downloading wordcloud-1.8.2.2-cp39-cp39-win_amd64.whl (153 kB)\n",
      "Requirement already satisfied: numpy>=1.6.1 in c:\\users\\visacheck admin\\anaconda3\\lib\\site-packages (from wordcloud) (1.21.5)\n",
      "Requirement already satisfied: matplotlib in c:\\users\\visacheck admin\\anaconda3\\lib\\site-packages (from wordcloud) (3.5.1)\n",
      "Requirement already satisfied: pillow in c:\\users\\visacheck admin\\anaconda3\\lib\\site-packages (from wordcloud) (9.0.1)\n",
      "Requirement already satisfied: fonttools>=4.22.0 in c:\\users\\visacheck admin\\anaconda3\\lib\\site-packages (from matplotlib->wordcloud) (4.25.0)\n",
      "Requirement already satisfied: packaging>=20.0 in c:\\users\\visacheck admin\\anaconda3\\lib\\site-packages (from matplotlib->wordcloud) (21.3)\n",
      "Requirement already satisfied: python-dateutil>=2.7 in c:\\users\\visacheck admin\\anaconda3\\lib\\site-packages (from matplotlib->wordcloud) (2.8.2)\n",
      "Requirement already satisfied: cycler>=0.10 in c:\\users\\visacheck admin\\anaconda3\\lib\\site-packages (from matplotlib->wordcloud) (0.11.0)\n",
      "Requirement already satisfied: kiwisolver>=1.0.1 in c:\\users\\visacheck admin\\anaconda3\\lib\\site-packages (from matplotlib->wordcloud) (1.3.2)\n",
      "Requirement already satisfied: pyparsing>=2.2.1 in c:\\users\\visacheck admin\\anaconda3\\lib\\site-packages (from matplotlib->wordcloud) (3.0.4)\n",
      "Requirement already satisfied: six>=1.5 in c:\\users\\visacheck admin\\anaconda3\\lib\\site-packages (from python-dateutil>=2.7->matplotlib->wordcloud) (1.16.0)\n",
      "Installing collected packages: wordcloud\n",
      "Successfully installed wordcloud-1.8.2.2\n"
     ]
    }
   ],
   "source": [
    "!pip install wordcloud"
   ]
  },
  {
   "cell_type": "code",
   "execution_count": 5,
   "id": "23b7ea13",
   "metadata": {},
   "outputs": [
    {
     "name": "stdout",
     "output_type": "stream",
     "text": [
      "Collecting emot\n",
      "  Downloading emot-3.1-py3-none-any.whl (61 kB)\n",
      "Installing collected packages: emot\n",
      "Successfully installed emot-3.1\n"
     ]
    }
   ],
   "source": [
    "!pip install emot"
   ]
  },
  {
   "cell_type": "code",
   "execution_count": 20,
   "id": "d8cccb07",
   "metadata": {},
   "outputs": [
    {
     "name": "stderr",
     "output_type": "stream",
     "text": [
      "[nltk_data] Downloading package stopwords to C:\\Users\\Visacheck\n",
      "[nltk_data]     Admin\\AppData\\Roaming\\nltk_data...\n",
      "[nltk_data]   Unzipping corpora\\stopwords.zip.\n"
     ]
    }
   ],
   "source": [
    "#libraries needed\n",
    "import pandas as pd\n",
    "import snscrape.modules.twitter as sntwitter\n",
    "import numpy as np\n",
    "import matplotlib.pyplot as plt\n",
    "import seaborn as sns\n",
    "\n",
    "import nltk\n",
    "# nltk.download('stopwords') #run once and comment it out to avoid it downloading multiple times\n",
    "from nltk.corpus import stopwords \n",
    "from nltk.tokenize import word_tokenize \n",
    "from nltk.stem import WordNetLemmatizer\n",
    "from nltk.stem.porter import PorterStemmer\n",
    "\n",
    "import string\n",
    "import re\n",
    "import textblob\n",
    "from textblob import TextBlob\n",
    "\n",
    "from wordcloud import WordCloud, STOPWORDS\n",
    "from emot.emo_unicode import UNICODE_EMOJI\n",
    "\n",
    "porter = PorterStemmer()\n",
    "\n",
    "lemmatizer = WordNetLemmatizer() \n",
    "\n",
    "from wordcloud import ImageColorGenerator\n",
    "from PIL import Image\n",
    "\n",
    "import warnings\n",
    "%matplotlib inline"
   ]
  },
  {
   "cell_type": "markdown",
   "id": "64e07621",
   "metadata": {},
   "source": [
    "# Data gathering"
   ]
  },
  {
   "cell_type": "code",
   "execution_count": 10,
   "id": "558715f8",
   "metadata": {},
   "outputs": [],
   "source": [
    "# creating a query for the search\n",
    "\n",
    "# query = \"(Peter Obi OR Tinubu OR Atiku OR #PeterObiForPresident2023 OR #TinubuForPresident2023 OR #AtikuForPresident2023 OR #BAT2023 OR #Obi2023 OR #Atiku2023 OR #OBIdient OR #Atikulated OR Batified OR PDP OR APC OR LP OR LABOUR PARTY) since:2022-01-01 until:2022-11-30\"\n",
    "# tweets = []\n",
    "# for i, tweet in enumerate(sntwitter.TwitterSearchScraper(query).get_items()):\n",
    "#     if i>20000:\n",
    "#         break\n",
    "#     else:\n",
    "#         tweets.append([tweet.date, tweet.id, tweet.url, tweet.user.username, tweet.sourceLabel, tweet.user.location, tweet.content, tweet.likeCount, tweet.retweetCount])\n",
    "# df = pd.DataFrame(tweets, columns = ['Date', 'ID', 'url', 'username', 'source', 'location', 'tweet', 'num_of_likes', 'num_of_retweet'])\n",
    "# df.to_csv('raw_tweets.csv', mode = 'a')"
   ]
  },
  {
   "cell_type": "code",
   "execution_count": 11,
   "id": "7a7d6625",
   "metadata": {},
   "outputs": [
    {
     "data": {
      "text/html": [
       "<div>\n",
       "<style scoped>\n",
       "    .dataframe tbody tr th:only-of-type {\n",
       "        vertical-align: middle;\n",
       "    }\n",
       "\n",
       "    .dataframe tbody tr th {\n",
       "        vertical-align: top;\n",
       "    }\n",
       "\n",
       "    .dataframe thead th {\n",
       "        text-align: right;\n",
       "    }\n",
       "</style>\n",
       "<table border=\"1\" class=\"dataframe\">\n",
       "  <thead>\n",
       "    <tr style=\"text-align: right;\">\n",
       "      <th></th>\n",
       "      <th>Unnamed: 0</th>\n",
       "      <th>Date</th>\n",
       "      <th>ID</th>\n",
       "      <th>url</th>\n",
       "      <th>username</th>\n",
       "      <th>source</th>\n",
       "      <th>location</th>\n",
       "      <th>tweet</th>\n",
       "      <th>num_of_likes</th>\n",
       "      <th>num_of_retweet</th>\n",
       "    </tr>\n",
       "  </thead>\n",
       "  <tbody>\n",
       "    <tr>\n",
       "      <th>0</th>\n",
       "      <td>0</td>\n",
       "      <td>2022-11-29 23:52:54+00:00</td>\n",
       "      <td>1597740415742283776</td>\n",
       "      <td>https://twitter.com/joan_smilez1/status/159774...</td>\n",
       "      <td>joan_smilez1</td>\n",
       "      <td>Twitter for Android</td>\n",
       "      <td>NaN</td>\n",
       "      <td>@Blessyn_Dion @OkeyBakassy If Peter Obi is emp...</td>\n",
       "      <td>3</td>\n",
       "      <td>0</td>\n",
       "    </tr>\n",
       "    <tr>\n",
       "      <th>1</th>\n",
       "      <td>1</td>\n",
       "      <td>2022-11-29 23:52:05+00:00</td>\n",
       "      <td>1597740211835838464</td>\n",
       "      <td>https://twitter.com/petraek09/status/159774021...</td>\n",
       "      <td>petraek09</td>\n",
       "      <td>Twitter for Android</td>\n",
       "      <td>NaN</td>\n",
       "      <td>@n6oflife6 @PeterObi We need to start referrin...</td>\n",
       "      <td>0</td>\n",
       "      <td>0</td>\n",
       "    </tr>\n",
       "    <tr>\n",
       "      <th>2</th>\n",
       "      <td>2</td>\n",
       "      <td>2022-11-29 23:49:02+00:00</td>\n",
       "      <td>1597739444748292096</td>\n",
       "      <td>https://twitter.com/FDipio/status/159773944474...</td>\n",
       "      <td>FDipio</td>\n",
       "      <td>Twitter for Android</td>\n",
       "      <td>Yenagoa</td>\n",
       "      <td>@PeterObi Baba that forgot to see his Labour p...</td>\n",
       "      <td>2</td>\n",
       "      <td>0</td>\n",
       "    </tr>\n",
       "    <tr>\n",
       "      <th>3</th>\n",
       "      <td>3</td>\n",
       "      <td>2022-11-29 23:46:22+00:00</td>\n",
       "      <td>1597738771096948737</td>\n",
       "      <td>https://twitter.com/Dr_chazduke/status/1597738...</td>\n",
       "      <td>Dr_chazduke</td>\n",
       "      <td>Twitter for iPhone</td>\n",
       "      <td>United Kingdom</td>\n",
       "      <td>Bola Tinubu and APC can pay anything to have h...</td>\n",
       "      <td>42</td>\n",
       "      <td>20</td>\n",
       "    </tr>\n",
       "    <tr>\n",
       "      <th>4</th>\n",
       "      <td>4</td>\n",
       "      <td>2022-11-29 23:40:18+00:00</td>\n",
       "      <td>1597737245590503424</td>\n",
       "      <td>https://twitter.com/DearestJessica_/status/159...</td>\n",
       "      <td>DearestJessica_</td>\n",
       "      <td>Twitter for Android</td>\n",
       "      <td>Co-founder, WCRLO</td>\n",
       "      <td>Obi all the way..............\\n\\nNote:\\nObidie...</td>\n",
       "      <td>1</td>\n",
       "      <td>0</td>\n",
       "    </tr>\n",
       "  </tbody>\n",
       "</table>\n",
       "</div>"
      ],
      "text/plain": [
       "   Unnamed: 0                       Date                   ID  \\\n",
       "0           0  2022-11-29 23:52:54+00:00  1597740415742283776   \n",
       "1           1  2022-11-29 23:52:05+00:00  1597740211835838464   \n",
       "2           2  2022-11-29 23:49:02+00:00  1597739444748292096   \n",
       "3           3  2022-11-29 23:46:22+00:00  1597738771096948737   \n",
       "4           4  2022-11-29 23:40:18+00:00  1597737245590503424   \n",
       "\n",
       "                                                 url         username  \\\n",
       "0  https://twitter.com/joan_smilez1/status/159774...     joan_smilez1   \n",
       "1  https://twitter.com/petraek09/status/159774021...        petraek09   \n",
       "2  https://twitter.com/FDipio/status/159773944474...           FDipio   \n",
       "3  https://twitter.com/Dr_chazduke/status/1597738...      Dr_chazduke   \n",
       "4  https://twitter.com/DearestJessica_/status/159...  DearestJessica_   \n",
       "\n",
       "                source           location  \\\n",
       "0  Twitter for Android                NaN   \n",
       "1  Twitter for Android                NaN   \n",
       "2  Twitter for Android            Yenagoa   \n",
       "3   Twitter for iPhone     United Kingdom   \n",
       "4  Twitter for Android  Co-founder, WCRLO   \n",
       "\n",
       "                                               tweet  num_of_likes  \\\n",
       "0  @Blessyn_Dion @OkeyBakassy If Peter Obi is emp...             3   \n",
       "1  @n6oflife6 @PeterObi We need to start referrin...             0   \n",
       "2  @PeterObi Baba that forgot to see his Labour p...             2   \n",
       "3  Bola Tinubu and APC can pay anything to have h...            42   \n",
       "4  Obi all the way..............\\n\\nNote:\\nObidie...             1   \n",
       "\n",
       "   num_of_retweet  \n",
       "0               0  \n",
       "1               0  \n",
       "2               0  \n",
       "3              20  \n",
       "4               0  "
      ]
     },
     "execution_count": 11,
     "metadata": {},
     "output_type": "execute_result"
    }
   ],
   "source": [
    "df =  pd.read_csv('raw_tweets.csv', encoding = 'unicode_escape')\n",
    "df.head()"
   ]
  },
  {
   "cell_type": "markdown",
   "id": "a0c686bd",
   "metadata": {},
   "source": [
    "# Precleaning"
   ]
  },
  {
   "cell_type": "code",
   "execution_count": 12,
   "id": "378e81b5",
   "metadata": {},
   "outputs": [
    {
     "data": {
      "text/plain": [
       "(20001, 10)"
      ]
     },
     "execution_count": 12,
     "metadata": {},
     "output_type": "execute_result"
    }
   ],
   "source": [
    "df.shape"
   ]
  },
  {
   "cell_type": "code",
   "execution_count": 13,
   "id": "bb2cdc78",
   "metadata": {},
   "outputs": [
    {
     "data": {
      "text/plain": [
       "Index(['Unnamed: 0', 'Date', 'ID', 'url', 'username', 'source', 'location',\n",
       "       'tweet', 'num_of_likes', 'num_of_retweet'],\n",
       "      dtype='object')"
      ]
     },
     "execution_count": 13,
     "metadata": {},
     "output_type": "execute_result"
    }
   ],
   "source": [
    "df.columns"
   ]
  },
  {
   "cell_type": "code",
   "execution_count": 15,
   "id": "198e24b6",
   "metadata": {},
   "outputs": [
    {
     "data": {
      "text/html": [
       "<div>\n",
       "<style scoped>\n",
       "    .dataframe tbody tr th:only-of-type {\n",
       "        vertical-align: middle;\n",
       "    }\n",
       "\n",
       "    .dataframe tbody tr th {\n",
       "        vertical-align: top;\n",
       "    }\n",
       "\n",
       "    .dataframe thead th {\n",
       "        text-align: right;\n",
       "    }\n",
       "</style>\n",
       "<table border=\"1\" class=\"dataframe\">\n",
       "  <thead>\n",
       "    <tr style=\"text-align: right;\">\n",
       "      <th></th>\n",
       "      <th>Date</th>\n",
       "      <th>ID</th>\n",
       "      <th>url</th>\n",
       "      <th>username</th>\n",
       "      <th>source</th>\n",
       "      <th>location</th>\n",
       "      <th>tweet</th>\n",
       "      <th>num_of_likes</th>\n",
       "      <th>num_of_retweet</th>\n",
       "    </tr>\n",
       "  </thead>\n",
       "  <tbody>\n",
       "    <tr>\n",
       "      <th>0</th>\n",
       "      <td>2022-11-29 23:52:54+00:00</td>\n",
       "      <td>1597740415742283776</td>\n",
       "      <td>https://twitter.com/joan_smilez1/status/159774...</td>\n",
       "      <td>joan_smilez1</td>\n",
       "      <td>Twitter for Android</td>\n",
       "      <td>NaN</td>\n",
       "      <td>@Blessyn_Dion @OkeyBakassy If Peter Obi is emp...</td>\n",
       "      <td>3</td>\n",
       "      <td>0</td>\n",
       "    </tr>\n",
       "    <tr>\n",
       "      <th>1</th>\n",
       "      <td>2022-11-29 23:52:05+00:00</td>\n",
       "      <td>1597740211835838464</td>\n",
       "      <td>https://twitter.com/petraek09/status/159774021...</td>\n",
       "      <td>petraek09</td>\n",
       "      <td>Twitter for Android</td>\n",
       "      <td>NaN</td>\n",
       "      <td>@n6oflife6 @PeterObi We need to start referrin...</td>\n",
       "      <td>0</td>\n",
       "      <td>0</td>\n",
       "    </tr>\n",
       "    <tr>\n",
       "      <th>2</th>\n",
       "      <td>2022-11-29 23:49:02+00:00</td>\n",
       "      <td>1597739444748292096</td>\n",
       "      <td>https://twitter.com/FDipio/status/159773944474...</td>\n",
       "      <td>FDipio</td>\n",
       "      <td>Twitter for Android</td>\n",
       "      <td>Yenagoa</td>\n",
       "      <td>@PeterObi Baba that forgot to see his Labour p...</td>\n",
       "      <td>2</td>\n",
       "      <td>0</td>\n",
       "    </tr>\n",
       "    <tr>\n",
       "      <th>3</th>\n",
       "      <td>2022-11-29 23:46:22+00:00</td>\n",
       "      <td>1597738771096948737</td>\n",
       "      <td>https://twitter.com/Dr_chazduke/status/1597738...</td>\n",
       "      <td>Dr_chazduke</td>\n",
       "      <td>Twitter for iPhone</td>\n",
       "      <td>United Kingdom</td>\n",
       "      <td>Bola Tinubu and APC can pay anything to have h...</td>\n",
       "      <td>42</td>\n",
       "      <td>20</td>\n",
       "    </tr>\n",
       "    <tr>\n",
       "      <th>4</th>\n",
       "      <td>2022-11-29 23:40:18+00:00</td>\n",
       "      <td>1597737245590503424</td>\n",
       "      <td>https://twitter.com/DearestJessica_/status/159...</td>\n",
       "      <td>DearestJessica_</td>\n",
       "      <td>Twitter for Android</td>\n",
       "      <td>Co-founder, WCRLO</td>\n",
       "      <td>Obi all the way..............\\n\\nNote:\\nObidie...</td>\n",
       "      <td>1</td>\n",
       "      <td>0</td>\n",
       "    </tr>\n",
       "  </tbody>\n",
       "</table>\n",
       "</div>"
      ],
      "text/plain": [
       "                        Date                   ID  \\\n",
       "0  2022-11-29 23:52:54+00:00  1597740415742283776   \n",
       "1  2022-11-29 23:52:05+00:00  1597740211835838464   \n",
       "2  2022-11-29 23:49:02+00:00  1597739444748292096   \n",
       "3  2022-11-29 23:46:22+00:00  1597738771096948737   \n",
       "4  2022-11-29 23:40:18+00:00  1597737245590503424   \n",
       "\n",
       "                                                 url         username  \\\n",
       "0  https://twitter.com/joan_smilez1/status/159774...     joan_smilez1   \n",
       "1  https://twitter.com/petraek09/status/159774021...        petraek09   \n",
       "2  https://twitter.com/FDipio/status/159773944474...           FDipio   \n",
       "3  https://twitter.com/Dr_chazduke/status/1597738...      Dr_chazduke   \n",
       "4  https://twitter.com/DearestJessica_/status/159...  DearestJessica_   \n",
       "\n",
       "                source           location  \\\n",
       "0  Twitter for Android                NaN   \n",
       "1  Twitter for Android                NaN   \n",
       "2  Twitter for Android            Yenagoa   \n",
       "3   Twitter for iPhone     United Kingdom   \n",
       "4  Twitter for Android  Co-founder, WCRLO   \n",
       "\n",
       "                                               tweet  num_of_likes  \\\n",
       "0  @Blessyn_Dion @OkeyBakassy If Peter Obi is emp...             3   \n",
       "1  @n6oflife6 @PeterObi We need to start referrin...             0   \n",
       "2  @PeterObi Baba that forgot to see his Labour p...             2   \n",
       "3  Bola Tinubu and APC can pay anything to have h...            42   \n",
       "4  Obi all the way..............\\n\\nNote:\\nObidie...             1   \n",
       "\n",
       "   num_of_retweet  \n",
       "0               0  \n",
       "1               0  \n",
       "2               0  \n",
       "3              20  \n",
       "4               0  "
      ]
     },
     "execution_count": 15,
     "metadata": {},
     "output_type": "execute_result"
    }
   ],
   "source": [
    "#dropping unnamed column\n",
    "to_drop = ['Unnamed: 0']\n",
    " \n",
    "df.drop(to_drop, inplace=True, axis=1)\n",
    "\n",
    "df.head()"
   ]
  },
  {
   "cell_type": "code",
   "execution_count": 16,
   "id": "9c65a1eb",
   "metadata": {},
   "outputs": [
    {
     "data": {
      "text/plain": [
       "Date                 0\n",
       "ID                   0\n",
       "url                  0\n",
       "username             0\n",
       "source               0\n",
       "location          6164\n",
       "tweet                0\n",
       "num_of_likes         0\n",
       "num_of_retweet       0\n",
       "dtype: int64"
      ]
     },
     "execution_count": 16,
     "metadata": {},
     "output_type": "execute_result"
    }
   ],
   "source": [
    "#checking for empty columns\n",
    "\n",
    "df.isna().sum()"
   ]
  },
  {
   "cell_type": "markdown",
   "id": "839924da",
   "metadata": {},
   "source": [
    "seeing that location has the most empty column,we fill it up"
   ]
  },
  {
   "cell_type": "code",
   "execution_count": 17,
   "id": "07401099",
   "metadata": {},
   "outputs": [],
   "source": [
    "df['location'] = df['location'].fillna('Unknown')"
   ]
  },
  {
   "cell_type": "markdown",
   "id": "4ac66dd0",
   "metadata": {},
   "source": [
    "# Data cleaning"
   ]
  },
  {
   "cell_type": "markdown",
   "id": "24ea0773",
   "metadata": {},
   "source": [
    "This involves this neccessay steps before carrying out the sentiment analysis To remove the stop words Removing tags, url links and other unnecessary words Tokenizing the words Lemmitizing words"
   ]
  },
  {
   "cell_type": "code",
   "execution_count": 25,
   "id": "44fc4d36",
   "metadata": {},
   "outputs": [],
   "source": [
    "#ensuring that the stopwords are in english\n",
    "eng_stop_words = list(stopwords.words('english'))\n"
   ]
  },
  {
   "cell_type": "code",
   "execution_count": 26,
   "id": "a03324ff",
   "metadata": {},
   "outputs": [],
   "source": [
    "emoji = list(UNICODE_EMOJI.keys())"
   ]
  },
  {
   "cell_type": "code",
   "execution_count": 27,
   "id": "b8dc7c07",
   "metadata": {},
   "outputs": [],
   "source": [
    "# function for preprocessing tweet in preparation for sentiment analysis\n",
    "def ProcessedTweets(text):\n",
    "    #changing tweet text to small letters\n",
    "    text = text.lower()\n",
    "    # Removing @ and links \n",
    "    text = ' '.join(re.sub(\"(@[A-Za-z0-9]+)|([^0-9A-Za-z \\t]) |(\\w+:\\/\\/\\S+)\", \" \", text).split())\n",
    "    # removing repeating characters\n",
    "    text = re.sub(r'\\@\\w+|\\#\\w+|\\d+', '', text)\n",
    "    # removing punctuation and numbers\n",
    "    punct = str.maketrans('', '', string.punctuation+string.digits)\n",
    "    text = text.translate(punct)\n",
    "    # tokenizing words and removing stop words from the tweet text\n",
    "    tokens = word_tokenize(text)  \n",
    "    filtered_words = [w for w in tokens if w not in eng_stop_words]\n",
    "    filtered_words = [w for w in filtered_words if w not in emoji]\n",
    "    # lemmetizing words\n",
    "    lemmatizer = WordNetLemmatizer() \n",
    "    lemma_words = [lemmatizer.lemmatize(w) for w in filtered_words]\n",
    "    text = \" \".join(lemma_words)\n",
    "    return text"
   ]
  },
  {
   "cell_type": "code",
   "execution_count": 30,
   "id": "a3907441",
   "metadata": {},
   "outputs": [
    {
     "name": "stderr",
     "output_type": "stream",
     "text": [
      "[nltk_data] Downloading package wordnet to C:\\Users\\Visacheck\n",
      "[nltk_data]     Admin\\AppData\\Roaming\\nltk_data...\n"
     ]
    },
    {
     "data": {
      "text/plain": [
       "True"
      ]
     },
     "execution_count": 30,
     "metadata": {},
     "output_type": "execute_result"
    }
   ],
   "source": [
    "nltk.download('wordnet')"
   ]
  },
  {
   "cell_type": "code",
   "execution_count": 32,
   "id": "e57d55ca",
   "metadata": {},
   "outputs": [
    {
     "name": "stderr",
     "output_type": "stream",
     "text": [
      "[nltk_data] Downloading package omw-1.4 to C:\\Users\\Visacheck\n",
      "[nltk_data]     Admin\\AppData\\Roaming\\nltk_data...\n"
     ]
    },
    {
     "data": {
      "text/plain": [
       "True"
      ]
     },
     "execution_count": 32,
     "metadata": {},
     "output_type": "execute_result"
    }
   ],
   "source": [
    "nltk.download('omw-1.4')"
   ]
  },
  {
   "cell_type": "code",
   "execution_count": 33,
   "id": "145acc51",
   "metadata": {},
   "outputs": [],
   "source": [
    "# Generate a new column called 'Processed Tweets' by applying preprocessed tweets function to the 'Tweet' column.\n",
    "df['Processed_Tweets'] = df['tweet'].apply(ProcessedTweets)"
   ]
  },
  {
   "cell_type": "code",
   "execution_count": 34,
   "id": "7ae24530",
   "metadata": {},
   "outputs": [
    {
     "data": {
      "text/html": [
       "<div>\n",
       "<style scoped>\n",
       "    .dataframe tbody tr th:only-of-type {\n",
       "        vertical-align: middle;\n",
       "    }\n",
       "\n",
       "    .dataframe tbody tr th {\n",
       "        vertical-align: top;\n",
       "    }\n",
       "\n",
       "    .dataframe thead th {\n",
       "        text-align: right;\n",
       "    }\n",
       "</style>\n",
       "<table border=\"1\" class=\"dataframe\">\n",
       "  <thead>\n",
       "    <tr style=\"text-align: right;\">\n",
       "      <th></th>\n",
       "      <th>Date</th>\n",
       "      <th>ID</th>\n",
       "      <th>url</th>\n",
       "      <th>username</th>\n",
       "      <th>source</th>\n",
       "      <th>location</th>\n",
       "      <th>tweet</th>\n",
       "      <th>num_of_likes</th>\n",
       "      <th>num_of_retweet</th>\n",
       "      <th>Processed_Tweets</th>\n",
       "    </tr>\n",
       "  </thead>\n",
       "  <tbody>\n",
       "    <tr>\n",
       "      <th>0</th>\n",
       "      <td>2022-11-29 23:52:54+00:00</td>\n",
       "      <td>1597740415742283776</td>\n",
       "      <td>https://twitter.com/joan_smilez1/status/159774...</td>\n",
       "      <td>joan_smilez1</td>\n",
       "      <td>Twitter for Android</td>\n",
       "      <td>Unknown</td>\n",
       "      <td>@Blessyn_Dion @OkeyBakassy If Peter Obi is emp...</td>\n",
       "      <td>3</td>\n",
       "      <td>0</td>\n",
       "      <td>dion peter obi empty bulaba nonexistent pdapc ...</td>\n",
       "    </tr>\n",
       "    <tr>\n",
       "      <th>1</th>\n",
       "      <td>2022-11-29 23:52:05+00:00</td>\n",
       "      <td>1597740211835838464</td>\n",
       "      <td>https://twitter.com/petraek09/status/159774021...</td>\n",
       "      <td>petraek09</td>\n",
       "      <td>Twitter for Android</td>\n",
       "      <td>Unknown</td>\n",
       "      <td>@n6oflife6 @PeterObi We need to start referrin...</td>\n",
       "      <td>0</td>\n",
       "      <td>0</td>\n",
       "      <td>need start referring peter obi lp would greatl...</td>\n",
       "    </tr>\n",
       "    <tr>\n",
       "      <th>2</th>\n",
       "      <td>2022-11-29 23:49:02+00:00</td>\n",
       "      <td>1597739444748292096</td>\n",
       "      <td>https://twitter.com/FDipio/status/159773944474...</td>\n",
       "      <td>FDipio</td>\n",
       "      <td>Twitter for Android</td>\n",
       "      <td>Yenagoa</td>\n",
       "      <td>@PeterObi Baba that forgot to see his Labour p...</td>\n",
       "      <td>2</td>\n",
       "      <td>0</td>\n",
       "      <td>baba forgot see labour party gubernatorial can...</td>\n",
       "    </tr>\n",
       "    <tr>\n",
       "      <th>3</th>\n",
       "      <td>2022-11-29 23:46:22+00:00</td>\n",
       "      <td>1597738771096948737</td>\n",
       "      <td>https://twitter.com/Dr_chazduke/status/1597738...</td>\n",
       "      <td>Dr_chazduke</td>\n",
       "      <td>Twitter for iPhone</td>\n",
       "      <td>United Kingdom</td>\n",
       "      <td>Bola Tinubu and APC can pay anything to have h...</td>\n",
       "      <td>42</td>\n",
       "      <td>20</td>\n",
       "      <td>bola tinubu apc pay anything half organic supp...</td>\n",
       "    </tr>\n",
       "    <tr>\n",
       "      <th>4</th>\n",
       "      <td>2022-11-29 23:40:18+00:00</td>\n",
       "      <td>1597737245590503424</td>\n",
       "      <td>https://twitter.com/DearestJessica_/status/159...</td>\n",
       "      <td>DearestJessica_</td>\n",
       "      <td>Twitter for Android</td>\n",
       "      <td>Co-founder, WCRLO</td>\n",
       "      <td>Obi all the way..............\\n\\nNote:\\nObidie...</td>\n",
       "      <td>1</td>\n",
       "      <td>0</td>\n",
       "      <td>obi way note obidient organic movement formed ...</td>\n",
       "    </tr>\n",
       "  </tbody>\n",
       "</table>\n",
       "</div>"
      ],
      "text/plain": [
       "                        Date                   ID  \\\n",
       "0  2022-11-29 23:52:54+00:00  1597740415742283776   \n",
       "1  2022-11-29 23:52:05+00:00  1597740211835838464   \n",
       "2  2022-11-29 23:49:02+00:00  1597739444748292096   \n",
       "3  2022-11-29 23:46:22+00:00  1597738771096948737   \n",
       "4  2022-11-29 23:40:18+00:00  1597737245590503424   \n",
       "\n",
       "                                                 url         username  \\\n",
       "0  https://twitter.com/joan_smilez1/status/159774...     joan_smilez1   \n",
       "1  https://twitter.com/petraek09/status/159774021...        petraek09   \n",
       "2  https://twitter.com/FDipio/status/159773944474...           FDipio   \n",
       "3  https://twitter.com/Dr_chazduke/status/1597738...      Dr_chazduke   \n",
       "4  https://twitter.com/DearestJessica_/status/159...  DearestJessica_   \n",
       "\n",
       "                source           location  \\\n",
       "0  Twitter for Android            Unknown   \n",
       "1  Twitter for Android            Unknown   \n",
       "2  Twitter for Android            Yenagoa   \n",
       "3   Twitter for iPhone     United Kingdom   \n",
       "4  Twitter for Android  Co-founder, WCRLO   \n",
       "\n",
       "                                               tweet  num_of_likes  \\\n",
       "0  @Blessyn_Dion @OkeyBakassy If Peter Obi is emp...             3   \n",
       "1  @n6oflife6 @PeterObi We need to start referrin...             0   \n",
       "2  @PeterObi Baba that forgot to see his Labour p...             2   \n",
       "3  Bola Tinubu and APC can pay anything to have h...            42   \n",
       "4  Obi all the way..............\\n\\nNote:\\nObidie...             1   \n",
       "\n",
       "   num_of_retweet                                   Processed_Tweets  \n",
       "0               0  dion peter obi empty bulaba nonexistent pdapc ...  \n",
       "1               0  need start referring peter obi lp would greatl...  \n",
       "2               0  baba forgot see labour party gubernatorial can...  \n",
       "3              20  bola tinubu apc pay anything half organic supp...  \n",
       "4               0  obi way note obidient organic movement formed ...  "
      ]
     },
     "execution_count": 34,
     "metadata": {},
     "output_type": "execute_result"
    }
   ],
   "source": [
    "df.head()"
   ]
  },
  {
   "cell_type": "code",
   "execution_count": 36,
   "id": "efad76f4",
   "metadata": {},
   "outputs": [
    {
     "data": {
      "text/plain": [
       "0    dion peter obi empty bulaba nonexistent pdapc ...\n",
       "1    need start referring peter obi lp would greatl...\n",
       "2    baba forgot see labour party gubernatorial can...\n",
       "3    bola tinubu apc pay anything half organic supp...\n",
       "4    obi way note obidient organic movement formed ...\n",
       "Name: Processed_Tweets, dtype: object"
      ]
     },
     "execution_count": 36,
     "metadata": {},
     "output_type": "execute_result"
    }
   ],
   "source": [
    "df['Processed_Tweets'].head()"
   ]
  },
  {
   "cell_type": "code",
   "execution_count": 39,
   "id": "8c758156",
   "metadata": {},
   "outputs": [
    {
     "data": {
      "text/plain": [
       "0        False\n",
       "1        False\n",
       "2        False\n",
       "3        False\n",
       "4        False\n",
       "         ...  \n",
       "19996    False\n",
       "19997    False\n",
       "19998    False\n",
       "19999    False\n",
       "20000    False\n",
       "Name: tweet, Length: 20001, dtype: bool"
      ]
     },
     "execution_count": 39,
     "metadata": {},
     "output_type": "execute_result"
    }
   ],
   "source": [
    "df['tweet'].duplicated()"
   ]
  },
  {
   "cell_type": "code",
   "execution_count": 40,
   "id": "e8bde71e",
   "metadata": {},
   "outputs": [
    {
     "data": {
      "text/html": [
       "<div>\n",
       "<style scoped>\n",
       "    .dataframe tbody tr th:only-of-type {\n",
       "        vertical-align: middle;\n",
       "    }\n",
       "\n",
       "    .dataframe tbody tr th {\n",
       "        vertical-align: top;\n",
       "    }\n",
       "\n",
       "    .dataframe thead th {\n",
       "        text-align: right;\n",
       "    }\n",
       "</style>\n",
       "<table border=\"1\" class=\"dataframe\">\n",
       "  <thead>\n",
       "    <tr style=\"text-align: right;\">\n",
       "      <th></th>\n",
       "      <th>Date</th>\n",
       "      <th>ID</th>\n",
       "      <th>url</th>\n",
       "      <th>username</th>\n",
       "      <th>source</th>\n",
       "      <th>location</th>\n",
       "      <th>tweet</th>\n",
       "      <th>num_of_likes</th>\n",
       "      <th>num_of_retweet</th>\n",
       "      <th>Processed_Tweets</th>\n",
       "    </tr>\n",
       "  </thead>\n",
       "  <tbody>\n",
       "    <tr>\n",
       "      <th>0</th>\n",
       "      <td>2022-11-29 23:52:54+00:00</td>\n",
       "      <td>1597740415742283776</td>\n",
       "      <td>https://twitter.com/joan_smilez1/status/159774...</td>\n",
       "      <td>joan_smilez1</td>\n",
       "      <td>Twitter for Android</td>\n",
       "      <td>Unknown</td>\n",
       "      <td>@blessyn_dion @okeybakassy if peter obi is emp...</td>\n",
       "      <td>3</td>\n",
       "      <td>0</td>\n",
       "      <td>dion peter obi empty bulaba nonexistent pdapc ...</td>\n",
       "    </tr>\n",
       "    <tr>\n",
       "      <th>1</th>\n",
       "      <td>2022-11-29 23:52:05+00:00</td>\n",
       "      <td>1597740211835838464</td>\n",
       "      <td>https://twitter.com/petraek09/status/159774021...</td>\n",
       "      <td>petraek09</td>\n",
       "      <td>Twitter for Android</td>\n",
       "      <td>Unknown</td>\n",
       "      <td>@n6oflife6 @peterobi we need to start referrin...</td>\n",
       "      <td>0</td>\n",
       "      <td>0</td>\n",
       "      <td>need start referring peter obi lp would greatl...</td>\n",
       "    </tr>\n",
       "    <tr>\n",
       "      <th>2</th>\n",
       "      <td>2022-11-29 23:49:02+00:00</td>\n",
       "      <td>1597739444748292096</td>\n",
       "      <td>https://twitter.com/FDipio/status/159773944474...</td>\n",
       "      <td>FDipio</td>\n",
       "      <td>Twitter for Android</td>\n",
       "      <td>Yenagoa</td>\n",
       "      <td>@peterobi baba that forgot to see his labour p...</td>\n",
       "      <td>2</td>\n",
       "      <td>0</td>\n",
       "      <td>baba forgot see labour party gubernatorial can...</td>\n",
       "    </tr>\n",
       "    <tr>\n",
       "      <th>3</th>\n",
       "      <td>2022-11-29 23:46:22+00:00</td>\n",
       "      <td>1597738771096948737</td>\n",
       "      <td>https://twitter.com/Dr_chazduke/status/1597738...</td>\n",
       "      <td>Dr_chazduke</td>\n",
       "      <td>Twitter for iPhone</td>\n",
       "      <td>United Kingdom</td>\n",
       "      <td>bola tinubu and apc can pay anything to have h...</td>\n",
       "      <td>42</td>\n",
       "      <td>20</td>\n",
       "      <td>bola tinubu apc pay anything half organic supp...</td>\n",
       "    </tr>\n",
       "    <tr>\n",
       "      <th>4</th>\n",
       "      <td>2022-11-29 23:40:18+00:00</td>\n",
       "      <td>1597737245590503424</td>\n",
       "      <td>https://twitter.com/DearestJessica_/status/159...</td>\n",
       "      <td>DearestJessica_</td>\n",
       "      <td>Twitter for Android</td>\n",
       "      <td>Co-founder, WCRLO</td>\n",
       "      <td>obi all the way..............\\n\\nnote:\\nobidie...</td>\n",
       "      <td>1</td>\n",
       "      <td>0</td>\n",
       "      <td>obi way note obidient organic movement formed ...</td>\n",
       "    </tr>\n",
       "  </tbody>\n",
       "</table>\n",
       "</div>"
      ],
      "text/plain": [
       "                        Date                   ID  \\\n",
       "0  2022-11-29 23:52:54+00:00  1597740415742283776   \n",
       "1  2022-11-29 23:52:05+00:00  1597740211835838464   \n",
       "2  2022-11-29 23:49:02+00:00  1597739444748292096   \n",
       "3  2022-11-29 23:46:22+00:00  1597738771096948737   \n",
       "4  2022-11-29 23:40:18+00:00  1597737245590503424   \n",
       "\n",
       "                                                 url         username  \\\n",
       "0  https://twitter.com/joan_smilez1/status/159774...     joan_smilez1   \n",
       "1  https://twitter.com/petraek09/status/159774021...        petraek09   \n",
       "2  https://twitter.com/FDipio/status/159773944474...           FDipio   \n",
       "3  https://twitter.com/Dr_chazduke/status/1597738...      Dr_chazduke   \n",
       "4  https://twitter.com/DearestJessica_/status/159...  DearestJessica_   \n",
       "\n",
       "                source           location  \\\n",
       "0  Twitter for Android            Unknown   \n",
       "1  Twitter for Android            Unknown   \n",
       "2  Twitter for Android            Yenagoa   \n",
       "3   Twitter for iPhone     United Kingdom   \n",
       "4  Twitter for Android  Co-founder, WCRLO   \n",
       "\n",
       "                                               tweet  num_of_likes  \\\n",
       "0  @blessyn_dion @okeybakassy if peter obi is emp...             3   \n",
       "1  @n6oflife6 @peterobi we need to start referrin...             0   \n",
       "2  @peterobi baba that forgot to see his labour p...             2   \n",
       "3  bola tinubu and apc can pay anything to have h...            42   \n",
       "4  obi all the way..............\\n\\nnote:\\nobidie...             1   \n",
       "\n",
       "   num_of_retweet                                   Processed_Tweets  \n",
       "0               0  dion peter obi empty bulaba nonexistent pdapc ...  \n",
       "1               0  need start referring peter obi lp would greatl...  \n",
       "2               0  baba forgot see labour party gubernatorial can...  \n",
       "3              20  bola tinubu apc pay anything half organic supp...  \n",
       "4               0  obi way note obidient organic movement formed ...  "
      ]
     },
     "execution_count": 40,
     "metadata": {},
     "output_type": "execute_result"
    }
   ],
   "source": [
    "# Lowercase \n",
    "df['tweet']=df['tweet'].str.lower()\n",
    "df.head()"
   ]
  },
  {
   "cell_type": "code",
   "execution_count": 42,
   "id": "3749600a",
   "metadata": {},
   "outputs": [],
   "source": [
    "# extracting the parties: apc, pdp, labour party and the 3 top candidate name into new columns\n",
    "def extract_apc(n):\n",
    "  n = str(n)\n",
    "  resp = n.lower().find(\"apc\")\n",
    "  if resp != -1:\n",
    "    return \"APC\"\n",
    "  else:\n",
    "    return None\n",
    "\n",
    "def extract_pdp(n):\n",
    "  n = str(n)\n",
    "  resp = n.lower().find(\"pdp\")\n",
    "  if resp != -1:\n",
    "    return \"PDP\"\n",
    "  else:\n",
    "    return None\n",
    "\n",
    "def extract_labour(n):\n",
    "  n = str(n)\n",
    "  resp = n.lower().find(\"labour party\")\n",
    "  if resp != -1:\n",
    "    return \"Labour Party\"\n",
    "  else:\n",
    "    return None\n",
    "\n",
    "def extract_obi(n):\n",
    "  n = str(n)\n",
    "  resp = n.lower().find(\"obi\")\n",
    "  if resp != -1:\n",
    "    return \"Peter Obi\"\n",
    "  else:\n",
    "    return None\n",
    "\n",
    "def extract_atiku(n):\n",
    "  n = str(n)\n",
    "  resp = n.lower().find(\"atiku\")\n",
    "  if resp != -1:\n",
    "    return \"Atiku\"\n",
    "  else:\n",
    "    return None\n",
    "\n",
    "def extract_tinubu(n):\n",
    "  n = str(n)\n",
    "  resp = n.lower().find(\"tinubu\")\n",
    "  if resp != -1:\n",
    "    return \"Tinubu\"\n",
    "  else:\n",
    "    return None"
   ]
  },
  {
   "cell_type": "code",
   "execution_count": 43,
   "id": "2b536fa0",
   "metadata": {},
   "outputs": [],
   "source": [
    "#applying the function\n",
    "df['Obi'] = df['tweet'].apply(extract_obi) \n",
    "df['labour'] = df['tweet'].apply(extract_labour) \n",
    "df['pdp'] = df['tweet'].apply(extract_pdp) \n",
    "df['apc'] = df['tweet'].apply(extract_apc) \n",
    "df['atiku'] = df['tweet'].apply(extract_atiku) \n",
    "df['tinubu'] = df['tweet'].apply(extract_tinubu) "
   ]
  },
  {
   "cell_type": "code",
   "execution_count": 44,
   "id": "6863b38b",
   "metadata": {},
   "outputs": [],
   "source": [
    "# replacing empty values with Empty\n",
    "df['Obi'] = df['Obi'].fillna('Empty')\n",
    "df['labour'] = df['labour'].fillna('Empty')\n",
    "df['pdp'] = df['pdp'].fillna('Empty')\n",
    "df['apc'] = df['apc'].fillna('Empty')\n",
    "df['atiku'] = df['atiku'].fillna('Empty')\n",
    "df['tinubu'] = df['tinubu'].fillna('Empty')"
   ]
  },
  {
   "cell_type": "code",
   "execution_count": 45,
   "id": "aa7b3031",
   "metadata": {},
   "outputs": [],
   "source": [
    "# convert the tweet text into a string separate with \" \"\n",
    "tweets_string = df['Processed_Tweets'].tolist()\n",
    "tweets_string = \" \".join(tweets_string)"
   ]
  },
  {
   "cell_type": "code",
   "execution_count": 46,
   "id": "5cdf51ba",
   "metadata": {},
   "outputs": [],
   "source": [
    "df.to_csv('cleaned_raw_data.csv') #write dataframe into csv file"
   ]
  },
  {
   "cell_type": "markdown",
   "id": "7c7c9ef8",
   "metadata": {},
   "source": [
    "# Sentimental Analysis"
   ]
  },
  {
   "cell_type": "code",
   "execution_count": 47,
   "id": "13eac9ca",
   "metadata": {},
   "outputs": [],
   "source": [
    "#get subjectivity and polarity of tweets with a function\n",
    "def getSubjectivity(text):\n",
    "    return TextBlob(text).sentiment.subjectivity\n",
    "#get polarity with a function\n",
    "def getPolarity(text):\n",
    "    return TextBlob(text).sentiment.polarity\n",
    "df['Subjectivity'] = df['Processed_Tweets'].apply(getSubjectivity)\n",
    "df['Polarity'] = df['Processed_Tweets'].apply(getPolarity)\n",
    "# df.drop('Tweets', axis=1).head() #shows polarity and subjectivity of each tweet and drops the uncleaned tweets column"
   ]
  },
  {
   "cell_type": "code",
   "execution_count": 48,
   "id": "d7458bfe",
   "metadata": {},
   "outputs": [
    {
     "data": {
      "text/html": [
       "<div>\n",
       "<style scoped>\n",
       "    .dataframe tbody tr th:only-of-type {\n",
       "        vertical-align: middle;\n",
       "    }\n",
       "\n",
       "    .dataframe tbody tr th {\n",
       "        vertical-align: top;\n",
       "    }\n",
       "\n",
       "    .dataframe thead th {\n",
       "        text-align: right;\n",
       "    }\n",
       "</style>\n",
       "<table border=\"1\" class=\"dataframe\">\n",
       "  <thead>\n",
       "    <tr style=\"text-align: right;\">\n",
       "      <th></th>\n",
       "      <th>Date</th>\n",
       "      <th>ID</th>\n",
       "      <th>url</th>\n",
       "      <th>username</th>\n",
       "      <th>source</th>\n",
       "      <th>location</th>\n",
       "      <th>tweet</th>\n",
       "      <th>num_of_likes</th>\n",
       "      <th>num_of_retweet</th>\n",
       "      <th>Processed_Tweets</th>\n",
       "      <th>Obi</th>\n",
       "      <th>labour</th>\n",
       "      <th>pdp</th>\n",
       "      <th>apc</th>\n",
       "      <th>atiku</th>\n",
       "      <th>tinubu</th>\n",
       "      <th>Subjectivity</th>\n",
       "      <th>Polarity</th>\n",
       "    </tr>\n",
       "  </thead>\n",
       "  <tbody>\n",
       "    <tr>\n",
       "      <th>0</th>\n",
       "      <td>2022-11-29 23:52:54+00:00</td>\n",
       "      <td>1597740415742283776</td>\n",
       "      <td>https://twitter.com/joan_smilez1/status/159774...</td>\n",
       "      <td>joan_smilez1</td>\n",
       "      <td>Twitter for Android</td>\n",
       "      <td>Unknown</td>\n",
       "      <td>@blessyn_dion @okeybakassy if peter obi is emp...</td>\n",
       "      <td>3</td>\n",
       "      <td>0</td>\n",
       "      <td>dion peter obi empty bulaba nonexistent pdapc ...</td>\n",
       "      <td>Peter Obi</td>\n",
       "      <td>Empty</td>\n",
       "      <td>Empty</td>\n",
       "      <td>APC</td>\n",
       "      <td>Empty</td>\n",
       "      <td>Empty</td>\n",
       "      <td>0.425000</td>\n",
       "      <td>-0.237500</td>\n",
       "    </tr>\n",
       "    <tr>\n",
       "      <th>1</th>\n",
       "      <td>2022-11-29 23:52:05+00:00</td>\n",
       "      <td>1597740211835838464</td>\n",
       "      <td>https://twitter.com/petraek09/status/159774021...</td>\n",
       "      <td>petraek09</td>\n",
       "      <td>Twitter for Android</td>\n",
       "      <td>Unknown</td>\n",
       "      <td>@n6oflife6 @peterobi we need to start referrin...</td>\n",
       "      <td>0</td>\n",
       "      <td>0</td>\n",
       "      <td>need start referring peter obi lp would greatl...</td>\n",
       "      <td>Peter Obi</td>\n",
       "      <td>Empty</td>\n",
       "      <td>Empty</td>\n",
       "      <td>Empty</td>\n",
       "      <td>Empty</td>\n",
       "      <td>Empty</td>\n",
       "      <td>0.750000</td>\n",
       "      <td>0.800000</td>\n",
       "    </tr>\n",
       "    <tr>\n",
       "      <th>2</th>\n",
       "      <td>2022-11-29 23:49:02+00:00</td>\n",
       "      <td>1597739444748292096</td>\n",
       "      <td>https://twitter.com/FDipio/status/159773944474...</td>\n",
       "      <td>FDipio</td>\n",
       "      <td>Twitter for Android</td>\n",
       "      <td>Yenagoa</td>\n",
       "      <td>@peterobi baba that forgot to see his labour p...</td>\n",
       "      <td>2</td>\n",
       "      <td>0</td>\n",
       "      <td>baba forgot see labour party gubernatorial can...</td>\n",
       "      <td>Peter Obi</td>\n",
       "      <td>Labour Party</td>\n",
       "      <td>Empty</td>\n",
       "      <td>Empty</td>\n",
       "      <td>Empty</td>\n",
       "      <td>Empty</td>\n",
       "      <td>0.514286</td>\n",
       "      <td>-0.053571</td>\n",
       "    </tr>\n",
       "    <tr>\n",
       "      <th>3</th>\n",
       "      <td>2022-11-29 23:46:22+00:00</td>\n",
       "      <td>1597738771096948737</td>\n",
       "      <td>https://twitter.com/Dr_chazduke/status/1597738...</td>\n",
       "      <td>Dr_chazduke</td>\n",
       "      <td>Twitter for iPhone</td>\n",
       "      <td>United Kingdom</td>\n",
       "      <td>bola tinubu and apc can pay anything to have h...</td>\n",
       "      <td>42</td>\n",
       "      <td>20</td>\n",
       "      <td>bola tinubu apc pay anything half organic supp...</td>\n",
       "      <td>Peter Obi</td>\n",
       "      <td>Labour Party</td>\n",
       "      <td>Empty</td>\n",
       "      <td>APC</td>\n",
       "      <td>Empty</td>\n",
       "      <td>Tinubu</td>\n",
       "      <td>0.422222</td>\n",
       "      <td>0.244444</td>\n",
       "    </tr>\n",
       "    <tr>\n",
       "      <th>4</th>\n",
       "      <td>2022-11-29 23:40:18+00:00</td>\n",
       "      <td>1597737245590503424</td>\n",
       "      <td>https://twitter.com/DearestJessica_/status/159...</td>\n",
       "      <td>DearestJessica_</td>\n",
       "      <td>Twitter for Android</td>\n",
       "      <td>Co-founder, WCRLO</td>\n",
       "      <td>obi all the way..............\\n\\nnote:\\nobidie...</td>\n",
       "      <td>1</td>\n",
       "      <td>0</td>\n",
       "      <td>obi way note obidient organic movement formed ...</td>\n",
       "      <td>Peter Obi</td>\n",
       "      <td>Labour Party</td>\n",
       "      <td>Empty</td>\n",
       "      <td>Empty</td>\n",
       "      <td>Empty</td>\n",
       "      <td>Empty</td>\n",
       "      <td>0.000000</td>\n",
       "      <td>0.000000</td>\n",
       "    </tr>\n",
       "  </tbody>\n",
       "</table>\n",
       "</div>"
      ],
      "text/plain": [
       "                        Date                   ID  \\\n",
       "0  2022-11-29 23:52:54+00:00  1597740415742283776   \n",
       "1  2022-11-29 23:52:05+00:00  1597740211835838464   \n",
       "2  2022-11-29 23:49:02+00:00  1597739444748292096   \n",
       "3  2022-11-29 23:46:22+00:00  1597738771096948737   \n",
       "4  2022-11-29 23:40:18+00:00  1597737245590503424   \n",
       "\n",
       "                                                 url         username  \\\n",
       "0  https://twitter.com/joan_smilez1/status/159774...     joan_smilez1   \n",
       "1  https://twitter.com/petraek09/status/159774021...        petraek09   \n",
       "2  https://twitter.com/FDipio/status/159773944474...           FDipio   \n",
       "3  https://twitter.com/Dr_chazduke/status/1597738...      Dr_chazduke   \n",
       "4  https://twitter.com/DearestJessica_/status/159...  DearestJessica_   \n",
       "\n",
       "                source           location  \\\n",
       "0  Twitter for Android            Unknown   \n",
       "1  Twitter for Android            Unknown   \n",
       "2  Twitter for Android            Yenagoa   \n",
       "3   Twitter for iPhone     United Kingdom   \n",
       "4  Twitter for Android  Co-founder, WCRLO   \n",
       "\n",
       "                                               tweet  num_of_likes  \\\n",
       "0  @blessyn_dion @okeybakassy if peter obi is emp...             3   \n",
       "1  @n6oflife6 @peterobi we need to start referrin...             0   \n",
       "2  @peterobi baba that forgot to see his labour p...             2   \n",
       "3  bola tinubu and apc can pay anything to have h...            42   \n",
       "4  obi all the way..............\\n\\nnote:\\nobidie...             1   \n",
       "\n",
       "   num_of_retweet                                   Processed_Tweets  \\\n",
       "0               0  dion peter obi empty bulaba nonexistent pdapc ...   \n",
       "1               0  need start referring peter obi lp would greatl...   \n",
       "2               0  baba forgot see labour party gubernatorial can...   \n",
       "3              20  bola tinubu apc pay anything half organic supp...   \n",
       "4               0  obi way note obidient organic movement formed ...   \n",
       "\n",
       "         Obi        labour    pdp    apc  atiku  tinubu  Subjectivity  \\\n",
       "0  Peter Obi         Empty  Empty    APC  Empty   Empty      0.425000   \n",
       "1  Peter Obi         Empty  Empty  Empty  Empty   Empty      0.750000   \n",
       "2  Peter Obi  Labour Party  Empty  Empty  Empty   Empty      0.514286   \n",
       "3  Peter Obi  Labour Party  Empty    APC  Empty  Tinubu      0.422222   \n",
       "4  Peter Obi  Labour Party  Empty  Empty  Empty   Empty      0.000000   \n",
       "\n",
       "   Polarity  \n",
       "0 -0.237500  \n",
       "1  0.800000  \n",
       "2 -0.053571  \n",
       "3  0.244444  \n",
       "4  0.000000  "
      ]
     },
     "execution_count": 48,
     "metadata": {},
     "output_type": "execute_result"
    }
   ],
   "source": [
    "df.head()"
   ]
  },
  {
   "cell_type": "code",
   "execution_count": 49,
   "id": "a7ca5196",
   "metadata": {},
   "outputs": [],
   "source": [
    "#create a function to check negative, neutral and positive analysis\n",
    "def getAnalysis(score):\n",
    "    if score<0:\n",
    "        return 'Negative'\n",
    "    elif score ==0:\n",
    "        return 'Neutral'\n",
    "    else:\n",
    "        return 'Positive'\n",
    "    \n",
    "df['Analysis'] = df['Polarity'].apply(getAnalysis)"
   ]
  },
  {
   "cell_type": "code",
   "execution_count": 50,
   "id": "21c9aafe",
   "metadata": {},
   "outputs": [
    {
     "data": {
      "text/html": [
       "<div>\n",
       "<style scoped>\n",
       "    .dataframe tbody tr th:only-of-type {\n",
       "        vertical-align: middle;\n",
       "    }\n",
       "\n",
       "    .dataframe tbody tr th {\n",
       "        vertical-align: top;\n",
       "    }\n",
       "\n",
       "    .dataframe thead th {\n",
       "        text-align: right;\n",
       "    }\n",
       "</style>\n",
       "<table border=\"1\" class=\"dataframe\">\n",
       "  <thead>\n",
       "    <tr style=\"text-align: right;\">\n",
       "      <th></th>\n",
       "      <th>Date</th>\n",
       "      <th>ID</th>\n",
       "      <th>url</th>\n",
       "      <th>username</th>\n",
       "      <th>source</th>\n",
       "      <th>location</th>\n",
       "      <th>tweet</th>\n",
       "      <th>num_of_likes</th>\n",
       "      <th>num_of_retweet</th>\n",
       "      <th>Processed_Tweets</th>\n",
       "      <th>Obi</th>\n",
       "      <th>labour</th>\n",
       "      <th>pdp</th>\n",
       "      <th>apc</th>\n",
       "      <th>atiku</th>\n",
       "      <th>tinubu</th>\n",
       "      <th>Subjectivity</th>\n",
       "      <th>Polarity</th>\n",
       "      <th>Analysis</th>\n",
       "    </tr>\n",
       "  </thead>\n",
       "  <tbody>\n",
       "    <tr>\n",
       "      <th>0</th>\n",
       "      <td>2022-11-29 23:52:54+00:00</td>\n",
       "      <td>1597740415742283776</td>\n",
       "      <td>https://twitter.com/joan_smilez1/status/159774...</td>\n",
       "      <td>joan_smilez1</td>\n",
       "      <td>Twitter for Android</td>\n",
       "      <td>Unknown</td>\n",
       "      <td>@blessyn_dion @okeybakassy if peter obi is emp...</td>\n",
       "      <td>3</td>\n",
       "      <td>0</td>\n",
       "      <td>dion peter obi empty bulaba nonexistent pdapc ...</td>\n",
       "      <td>Peter Obi</td>\n",
       "      <td>Empty</td>\n",
       "      <td>Empty</td>\n",
       "      <td>APC</td>\n",
       "      <td>Empty</td>\n",
       "      <td>Empty</td>\n",
       "      <td>0.425000</td>\n",
       "      <td>-0.237500</td>\n",
       "      <td>Negative</td>\n",
       "    </tr>\n",
       "    <tr>\n",
       "      <th>1</th>\n",
       "      <td>2022-11-29 23:52:05+00:00</td>\n",
       "      <td>1597740211835838464</td>\n",
       "      <td>https://twitter.com/petraek09/status/159774021...</td>\n",
       "      <td>petraek09</td>\n",
       "      <td>Twitter for Android</td>\n",
       "      <td>Unknown</td>\n",
       "      <td>@n6oflife6 @peterobi we need to start referrin...</td>\n",
       "      <td>0</td>\n",
       "      <td>0</td>\n",
       "      <td>need start referring peter obi lp would greatl...</td>\n",
       "      <td>Peter Obi</td>\n",
       "      <td>Empty</td>\n",
       "      <td>Empty</td>\n",
       "      <td>Empty</td>\n",
       "      <td>Empty</td>\n",
       "      <td>Empty</td>\n",
       "      <td>0.750000</td>\n",
       "      <td>0.800000</td>\n",
       "      <td>Positive</td>\n",
       "    </tr>\n",
       "    <tr>\n",
       "      <th>2</th>\n",
       "      <td>2022-11-29 23:49:02+00:00</td>\n",
       "      <td>1597739444748292096</td>\n",
       "      <td>https://twitter.com/FDipio/status/159773944474...</td>\n",
       "      <td>FDipio</td>\n",
       "      <td>Twitter for Android</td>\n",
       "      <td>Yenagoa</td>\n",
       "      <td>@peterobi baba that forgot to see his labour p...</td>\n",
       "      <td>2</td>\n",
       "      <td>0</td>\n",
       "      <td>baba forgot see labour party gubernatorial can...</td>\n",
       "      <td>Peter Obi</td>\n",
       "      <td>Labour Party</td>\n",
       "      <td>Empty</td>\n",
       "      <td>Empty</td>\n",
       "      <td>Empty</td>\n",
       "      <td>Empty</td>\n",
       "      <td>0.514286</td>\n",
       "      <td>-0.053571</td>\n",
       "      <td>Negative</td>\n",
       "    </tr>\n",
       "    <tr>\n",
       "      <th>3</th>\n",
       "      <td>2022-11-29 23:46:22+00:00</td>\n",
       "      <td>1597738771096948737</td>\n",
       "      <td>https://twitter.com/Dr_chazduke/status/1597738...</td>\n",
       "      <td>Dr_chazduke</td>\n",
       "      <td>Twitter for iPhone</td>\n",
       "      <td>United Kingdom</td>\n",
       "      <td>bola tinubu and apc can pay anything to have h...</td>\n",
       "      <td>42</td>\n",
       "      <td>20</td>\n",
       "      <td>bola tinubu apc pay anything half organic supp...</td>\n",
       "      <td>Peter Obi</td>\n",
       "      <td>Labour Party</td>\n",
       "      <td>Empty</td>\n",
       "      <td>APC</td>\n",
       "      <td>Empty</td>\n",
       "      <td>Tinubu</td>\n",
       "      <td>0.422222</td>\n",
       "      <td>0.244444</td>\n",
       "      <td>Positive</td>\n",
       "    </tr>\n",
       "    <tr>\n",
       "      <th>4</th>\n",
       "      <td>2022-11-29 23:40:18+00:00</td>\n",
       "      <td>1597737245590503424</td>\n",
       "      <td>https://twitter.com/DearestJessica_/status/159...</td>\n",
       "      <td>DearestJessica_</td>\n",
       "      <td>Twitter for Android</td>\n",
       "      <td>Co-founder, WCRLO</td>\n",
       "      <td>obi all the way..............\\n\\nnote:\\nobidie...</td>\n",
       "      <td>1</td>\n",
       "      <td>0</td>\n",
       "      <td>obi way note obidient organic movement formed ...</td>\n",
       "      <td>Peter Obi</td>\n",
       "      <td>Labour Party</td>\n",
       "      <td>Empty</td>\n",
       "      <td>Empty</td>\n",
       "      <td>Empty</td>\n",
       "      <td>Empty</td>\n",
       "      <td>0.000000</td>\n",
       "      <td>0.000000</td>\n",
       "      <td>Neutral</td>\n",
       "    </tr>\n",
       "  </tbody>\n",
       "</table>\n",
       "</div>"
      ],
      "text/plain": [
       "                        Date                   ID  \\\n",
       "0  2022-11-29 23:52:54+00:00  1597740415742283776   \n",
       "1  2022-11-29 23:52:05+00:00  1597740211835838464   \n",
       "2  2022-11-29 23:49:02+00:00  1597739444748292096   \n",
       "3  2022-11-29 23:46:22+00:00  1597738771096948737   \n",
       "4  2022-11-29 23:40:18+00:00  1597737245590503424   \n",
       "\n",
       "                                                 url         username  \\\n",
       "0  https://twitter.com/joan_smilez1/status/159774...     joan_smilez1   \n",
       "1  https://twitter.com/petraek09/status/159774021...        petraek09   \n",
       "2  https://twitter.com/FDipio/status/159773944474...           FDipio   \n",
       "3  https://twitter.com/Dr_chazduke/status/1597738...      Dr_chazduke   \n",
       "4  https://twitter.com/DearestJessica_/status/159...  DearestJessica_   \n",
       "\n",
       "                source           location  \\\n",
       "0  Twitter for Android            Unknown   \n",
       "1  Twitter for Android            Unknown   \n",
       "2  Twitter for Android            Yenagoa   \n",
       "3   Twitter for iPhone     United Kingdom   \n",
       "4  Twitter for Android  Co-founder, WCRLO   \n",
       "\n",
       "                                               tweet  num_of_likes  \\\n",
       "0  @blessyn_dion @okeybakassy if peter obi is emp...             3   \n",
       "1  @n6oflife6 @peterobi we need to start referrin...             0   \n",
       "2  @peterobi baba that forgot to see his labour p...             2   \n",
       "3  bola tinubu and apc can pay anything to have h...            42   \n",
       "4  obi all the way..............\\n\\nnote:\\nobidie...             1   \n",
       "\n",
       "   num_of_retweet                                   Processed_Tweets  \\\n",
       "0               0  dion peter obi empty bulaba nonexistent pdapc ...   \n",
       "1               0  need start referring peter obi lp would greatl...   \n",
       "2               0  baba forgot see labour party gubernatorial can...   \n",
       "3              20  bola tinubu apc pay anything half organic supp...   \n",
       "4               0  obi way note obidient organic movement formed ...   \n",
       "\n",
       "         Obi        labour    pdp    apc  atiku  tinubu  Subjectivity  \\\n",
       "0  Peter Obi         Empty  Empty    APC  Empty   Empty      0.425000   \n",
       "1  Peter Obi         Empty  Empty  Empty  Empty   Empty      0.750000   \n",
       "2  Peter Obi  Labour Party  Empty  Empty  Empty   Empty      0.514286   \n",
       "3  Peter Obi  Labour Party  Empty    APC  Empty  Tinubu      0.422222   \n",
       "4  Peter Obi  Labour Party  Empty  Empty  Empty   Empty      0.000000   \n",
       "\n",
       "   Polarity  Analysis  \n",
       "0 -0.237500  Negative  \n",
       "1  0.800000  Positive  \n",
       "2 -0.053571  Negative  \n",
       "3  0.244444  Positive  \n",
       "4  0.000000   Neutral  "
      ]
     },
     "execution_count": 50,
     "metadata": {},
     "output_type": "execute_result"
    }
   ],
   "source": [
    "df.head()"
   ]
  },
  {
   "cell_type": "code",
   "execution_count": 52,
   "id": "7a6a9adc",
   "metadata": {},
   "outputs": [],
   "source": [
    "df.to_csv('new_raw_data.csv') #write dataframe into csv file"
   ]
  },
  {
   "cell_type": "code",
   "execution_count": 51,
   "id": "ede49265",
   "metadata": {},
   "outputs": [
    {
     "data": {
      "text/plain": [
       "Positive    9217\n",
       "Neutral     7054\n",
       "Negative    3730\n",
       "Name: Analysis, dtype: int64"
      ]
     },
     "execution_count": 51,
     "metadata": {},
     "output_type": "execute_result"
    }
   ],
   "source": [
    "df['Analysis'].value_counts() #shows the counts of tweets' polarity"
   ]
  },
  {
   "cell_type": "markdown",
   "id": "59ff6244",
   "metadata": {},
   "source": [
    "# Visualization"
   ]
  },
  {
   "cell_type": "code",
   "execution_count": 54,
   "id": "4bf6be75",
   "metadata": {},
   "outputs": [
    {
     "data": {
      "image/png": "[encoded data removed]",
      "text/plain": [
       "<Figure size 504x360 with 1 Axes>"
      ]
     },
     "metadata": {
      "needs_background": "light"
     },
     "output_type": "display_data"
    },
    {
     "data": {
      "text/plain": [
       "<Figure size 432x288 with 0 Axes>"
      ]
     },
     "metadata": {},
     "output_type": "display_data"
    }
   ],
   "source": [
    "#plot a bar graph to show count of tweet sentiment\n",
    "fig1 = plt.figure(figsize=(7,5))\n",
    "color = ['green','grey','red']\n",
    "df['Analysis'].value_counts().plot(kind='bar',color = color)\n",
    "plt.title('Value count of tweet polarity')\n",
    "plt.ylabel('Count')\n",
    "plt.xlabel('Polarity')\n",
    "plt.grid(False)\n",
    "plt.show()\n",
    "\n",
    "#saving the image\n",
    "plt.savefig('election_fig1.png')"
   ]
  },
  {
   "cell_type": "code",
   "execution_count": 57,
   "id": "7f155311",
   "metadata": {},
   "outputs": [
    {
     "data": {
      "image/png": "[encoded data removed]",
      "text/plain": [
       "<Figure size 504x504 with 1 Axes>"
      ]
     },
     "metadata": {},
     "output_type": "display_data"
    }
   ],
   "source": [
    "#pie chart to show percentage distribution of polarity\n",
    "fig = plt.figure(figsize=(7,7))\n",
    "colors = ('green', 'grey', 'red')\n",
    "wp={'linewidth':2, 'edgecolor': 'black'}\n",
    "tags=df['Analysis'].value_counts()\n",
    "explode = (0.1,0.1,0.1)\n",
    "tags.plot(kind='pie', autopct='%1.1f%%', shadow=True, colors=colors, \n",
    "         startangle=90, wedgeprops=wp, explode=explode, label='')\n",
    "plt.title('Distribution of polarity')\n",
    "\n",
    "#saving the image\n",
    "plt.savefig('election_fig2.png')"
   ]
  },
  {
   "cell_type": "code",
   "execution_count": 61,
   "id": "82b7079f",
   "metadata": {},
   "outputs": [
    {
     "data": {
      "image/png": "[encoded data removed]",
      "text/plain": [
       "<Figure size 648x504 with 1 Axes>"
      ]
     },
     "metadata": {
      "needs_background": "light"
     },
     "output_type": "display_data"
    },
    {
     "data": {
      "text/plain": [
       "<Figure size 432x288 with 0 Axes>"
      ]
     },
     "metadata": {},
     "output_type": "display_data"
    }
   ],
   "source": [
    "#plot the polarity and subjectivity on a scatter plot\n",
    "plt.figure(figsize=(9,7))\n",
    "for i in range(0,df.shape[0]):\n",
    "    plt.scatter(df['Polarity'][i],df['Subjectivity'][i], color='blue')\n",
    "plt.title('Sentiment Analysis')\n",
    "plt.xlabel('Polarity')\n",
    "plt.ylabel('Subjectivity')\n",
    "plt.show()\n",
    "\n",
    "#saving the image\n",
    "plt.savefig('election_fig3.png')"
   ]
  },
  {
   "cell_type": "code",
   "execution_count": 76,
   "id": "ad724f2b",
   "metadata": {},
   "outputs": [
    {
     "data": {
      "image/png": "[encoded data removed]",
      "text/plain": [
       "<Figure size 432x288 with 1 Axes>"
      ]
     },
     "metadata": {
      "needs_background": "light"
     },
     "output_type": "display_data"
    },
    {
     "data": {
      "text/plain": [
       "<Figure size 432x288 with 0 Axes>"
      ]
     },
     "metadata": {},
     "output_type": "display_data"
    }
   ],
   "source": [
    "# Instantiate the Twitter word cloud object\n",
    "w_cloud = WordCloud(collocations = False,max_words=200, background_color = 'white', width = 8000, height = 5000).generate(tweets_string)\n",
    "\n",
    "# Display the generated Word Cloud\n",
    "plt.imshow(w_cloud, interpolation='bilinear')\n",
    "plt.axis(\"off\")\n",
    "plt.show()\n",
    "plt.savefig('election_fig4.png')"
   ]
  },
  {
   "cell_type": "code",
   "execution_count": 63,
   "id": "4a0c57a3",
   "metadata": {},
   "outputs": [
    {
     "data": {
      "text/plain": [
       "<Figure size 432x288 with 0 Axes>"
      ]
     },
     "metadata": {},
     "output_type": "display_data"
    }
   ],
   "source": [
    "plt.savefig('election_fig4.png')"
   ]
  },
  {
   "cell_type": "code",
   "execution_count": 64,
   "id": "196e649a",
   "metadata": {},
   "outputs": [
    {
     "data": {
      "text/plain": [
       "['dion',\n",
       " 'peter',\n",
       " 'obi',\n",
       " 'empty',\n",
       " 'bulaba',\n",
       " 'nonexistent',\n",
       " 'pdapc',\n",
       " 'party',\n",
       " 'barren',\n",
       " 'bootless']"
      ]
     },
     "execution_count": 64,
     "metadata": {},
     "output_type": "execute_result"
    }
   ],
   "source": [
    "#break each tweet sentence into words\n",
    "sentences = []\n",
    "for word in df['Processed_Tweets']:\n",
    "    sentences.append(word)\n",
    "sentences\n",
    "lines = list()\n",
    "for line in sentences:\n",
    "    words = line.split()\n",
    "    for w in words:\n",
    "        lines.append(w)\n",
    "lines[:10] #shows first 10 words in the first tweet"
   ]
  },
  {
   "cell_type": "markdown",
   "id": "29e0cfbb",
   "metadata": {},
   "source": [
    "# Conclusion\n",
    "\n",
    "The total tweets scrapped was 20001.\n",
    "\n",
    "We used a library called TextBolob to detect the subjectivity or polarity of a tweet. It uses Natural Language ToolKit (NLTK). The Subjectivity shows the amount of personal opinion in a sentence. Its score lies between 0 and 1. If a tweet has high subjectivity i.e. close to 1, it means the tweet contains more of a personal opinion than factual information. The polarity score lies between (-1 to 1) where -1 identifies the most negative words and 1 identifies the most positive words.\n",
    "\n",
    "We created a function that gets the subjectivity and polarity of each tweet and saves them to new columns with the names Subjectivity and Polarity respectively\n",
    "\n",
    "Overall, many people feel positive about the election despite the general believe of \"the votes don't count\".Over 40% of tweets indicate there is still hope for the election. \n",
    "\n",
    "Peter Obi, one of the candidates seems to be the most talked about as shown in the wordcloud.This could be a result of historic data as a former gpvernor of Anambra state."
   ]
  },
  {
   "cell_type": "code",
   "execution_count": null,
   "id": "6564d4be",
   "metadata": {},
   "outputs": [],
   "source": []
  }
 ],
 "metadata": {
  "kernelspec": {
   "display_name": "Python 3 (ipykernel)",
   "language": "python",
   "name": "python3"
  },
  "language_info": {
   "codemirror_mode": {
    "name": "ipython",
    "version": 3
   },
   "file_extension": ".py",
   "mimetype": "text/x-python",
   "name": "python",
   "nbconvert_exporter": "python",
   "pygments_lexer": "ipython3",
   "version": "3.9.12"
  }
 },
 "nbformat": 4,
 "nbformat_minor": 5
}
